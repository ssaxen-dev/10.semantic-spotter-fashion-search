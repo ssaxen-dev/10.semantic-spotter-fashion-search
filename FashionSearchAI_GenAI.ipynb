{
  "cells": [
    {
      "cell_type": "markdown",
      "metadata": {
        "id": "bVHSjd3LvWqK"
      },
      "source": [
        "# Problematic Statement:\n"
      ]
    },
    {
      "cell_type": "markdown",
      "metadata": {
        "id": "0vJXKJVd7HZg"
      },
      "source": [
        "Undoubtedly, modern technology has transformed us into a global village and the preferred mode of shopping today is online shopping. But with the endless choices and lack of individual attention, clients may often feel lost and frustrated. In order to circumvent this problem, we set up a FashionFinder AI—a powerful chat bot that integrates best of languages models and rule-based models, to assist users. This makes it possible for shoppers to get promised engagement, guidance and support which makes their virtual shopping engaging and fun.\n",
        "\n",
        "\n",
        "**We will develop a chatbot that examines a dataset containing information about fashion products, such as product names, specifications, and descriptions. This chatbot should be able to provide accurate fashion recommendations that cater to the unique preferences of users.bold text**"
      ]
    },
    {
      "cell_type": "markdown",
      "metadata": {
        "id": "2SKdpV2Kvgr4"
      },
      "source": [
        "## Part 1 : System Architecture"
      ]
    },
    {
      "cell_type": "markdown",
      "metadata": {
        "id": "PlWH3Zmj7Ma-"
      },
      "source": [
        "The chatbot should ask a series of questions to understand the user's needs better. To simplify this process, we have identified four key features that represent the user's preferences:\n",
        "\n",
        "- Price\n",
        "- Colour\n",
        "- Rating\n",
        "- Gender\n",
        "\n",
        "At the end, confirm whether the user's requirements have been accurately captured.\n",
        "\n",
        "After that, the chatbot will present the top three products that best match the user's criteria and continue the conversation to assist in finding the ideal option.\n",
        "\n",
        "\n",
        "![system architecture](architecture.png \"system architecture\")"
      ]
    },
    {
      "cell_type": "markdown",
      "metadata": {
        "id": "ir6XnfYlvod4"
      },
      "source": [
        "## Part 2 : Solution POC"
      ]
    },
    {
      "cell_type": "markdown",
      "metadata": {
        "id": "P3B_uA6m7VpW"
      },
      "source": [
        "|`Stage 1`\n",
        "\n",
        "- Intent Clarity\n",
        "- Intent Confirmation\n",
        "\n",
        "`Stage 2`\n",
        "\n",
        "- Product Mapping\n",
        "- Product Information Extraction\n",
        "\n",
        "`Stage 3`\n",
        "\n",
        "- Product Recommendation\n",
        "\n",
        "##### Key functions of the Chatbot\n",
        "\n",
        "Here’s a quick overview of the key functions that make up the chatbot. We’ll explore each of them in detail later.\n",
        "\n",
        "\n",
        "\n",
        "- `initialize_conversation()`: This sets up the variable \"conversation\" with the system's initial message.\n",
        "- `get_chat_completions()`: This takes the ongoing conversation as the input and returns the response by the assistant\n",
        "- `moderation_check()`: This checks whether the user's or the assistant's message can be considered inappropriate. If any one of these is inappropriate, the conversation is terminated.\n",
        "- `intent_confirmation_layer()`: This feature assesses if the chatbot has accurately recorded the user's profile based on the assistant's response. This specifically determines whether or not the user's properties listed below have been recorded.\n",
        "- `dictionary_present()`: This function determines whether or not the chatbot returns the user's profile's final understanding as a Python dictionary. The information is extracted as a Python dictionary if one exists.\n",
        "- `compare_laptops_with_user()`: This function returns the top three suggestions after comparing the user's profile with the various products.\n",
        "- `initialize_conv_reco()`: Starts the discussion about recommendations."
      ]
    },
    {
      "cell_type": "markdown",
      "metadata": {
        "id": "D3a2kwlvvzIA"
      },
      "source": [
        "### 2.1 Import necessary Libraries"
      ]
    },
    {
      "cell_type": "code",
      "execution_count": 8,
      "metadata": {
        "colab": {
          "base_uri": "https://localhost:8080/"
        },
        "id": "6WJ6_0ONymL4",
        "outputId": "8dad0f01-6081-40bf-c0a2-c9c49a663487"
      },
      "outputs": [
        {
          "name": "stdout",
          "output_type": "stream",
          "text": [
            "Requirement already satisfied: llama-index in /opt/anaconda3/lib/python3.12/site-packages (0.12.3)\n",
            "Requirement already satisfied: faiss-cpu in /opt/anaconda3/lib/python3.12/site-packages (1.9.0.post1)\n",
            "Requirement already satisfied: openai in /opt/anaconda3/lib/python3.12/site-packages (1.58.1)\n",
            "Requirement already satisfied: pandas in /opt/anaconda3/lib/python3.12/site-packages (2.2.2)\n",
            "Requirement already satisfied: llama-index-agent-openai<0.5.0,>=0.4.0 in /opt/anaconda3/lib/python3.12/site-packages (from llama-index) (0.4.0)\n",
            "Requirement already satisfied: llama-index-cli<0.5.0,>=0.4.0 in /opt/anaconda3/lib/python3.12/site-packages (from llama-index) (0.4.0)\n",
            "Requirement already satisfied: llama-index-core<0.13.0,>=0.12.3 in /opt/anaconda3/lib/python3.12/site-packages (from llama-index) (0.12.6)\n",
            "Requirement already satisfied: llama-index-embeddings-openai<0.4.0,>=0.3.0 in /opt/anaconda3/lib/python3.12/site-packages (from llama-index) (0.3.1)\n",
            "Requirement already satisfied: llama-index-indices-managed-llama-cloud>=0.4.0 in /opt/anaconda3/lib/python3.12/site-packages (from llama-index) (0.6.3)\n",
            "Requirement already satisfied: llama-index-legacy<0.10.0,>=0.9.48 in /opt/anaconda3/lib/python3.12/site-packages (from llama-index) (0.9.48.post4)\n",
            "Requirement already satisfied: llama-index-llms-openai<0.4.0,>=0.3.0 in /opt/anaconda3/lib/python3.12/site-packages (from llama-index) (0.3.2)\n",
            "Requirement already satisfied: llama-index-multi-modal-llms-openai<0.4.0,>=0.3.0 in /opt/anaconda3/lib/python3.12/site-packages (from llama-index) (0.3.0)\n",
            "Requirement already satisfied: llama-index-program-openai<0.4.0,>=0.3.0 in /opt/anaconda3/lib/python3.12/site-packages (from llama-index) (0.3.1)\n",
            "Requirement already satisfied: llama-index-question-gen-openai<0.4.0,>=0.3.0 in /opt/anaconda3/lib/python3.12/site-packages (from llama-index) (0.3.0)\n",
            "Requirement already satisfied: llama-index-readers-file<0.5.0,>=0.4.0 in /opt/anaconda3/lib/python3.12/site-packages (from llama-index) (0.4.1)\n",
            "Requirement already satisfied: llama-index-readers-llama-parse>=0.4.0 in /opt/anaconda3/lib/python3.12/site-packages (from llama-index) (0.4.0)\n",
            "Requirement already satisfied: nltk>3.8.1 in /opt/anaconda3/lib/python3.12/site-packages (from llama-index) (3.9.1)\n",
            "Requirement already satisfied: numpy<3.0,>=1.25.0 in /opt/anaconda3/lib/python3.12/site-packages (from faiss-cpu) (1.26.4)\n",
            "Requirement already satisfied: packaging in /opt/anaconda3/lib/python3.12/site-packages (from faiss-cpu) (24.2)\n",
            "Requirement already satisfied: anyio<5,>=3.5.0 in /opt/anaconda3/lib/python3.12/site-packages (from openai) (4.2.0)\n",
            "Requirement already satisfied: distro<2,>=1.7.0 in /opt/anaconda3/lib/python3.12/site-packages (from openai) (1.9.0)\n",
            "Requirement already satisfied: httpx<1,>=0.23.0 in /opt/anaconda3/lib/python3.12/site-packages (from openai) (0.27.2)\n",
            "Requirement already satisfied: jiter<1,>=0.4.0 in /opt/anaconda3/lib/python3.12/site-packages (from openai) (0.6.1)\n",
            "Requirement already satisfied: pydantic<3,>=1.9.0 in /opt/anaconda3/lib/python3.12/site-packages (from openai) (2.9.2)\n",
            "Requirement already satisfied: sniffio in /opt/anaconda3/lib/python3.12/site-packages (from openai) (1.3.0)\n",
            "Requirement already satisfied: tqdm>4 in /opt/anaconda3/lib/python3.12/site-packages (from openai) (4.66.4)\n",
            "Requirement already satisfied: typing-extensions<5,>=4.11 in /opt/anaconda3/lib/python3.12/site-packages (from openai) (4.11.0)\n",
            "Requirement already satisfied: python-dateutil>=2.8.2 in /opt/anaconda3/lib/python3.12/site-packages (from pandas) (2.9.0.post0)\n",
            "Requirement already satisfied: pytz>=2020.1 in /opt/anaconda3/lib/python3.12/site-packages (from pandas) (2024.1)\n",
            "Requirement already satisfied: tzdata>=2022.7 in /opt/anaconda3/lib/python3.12/site-packages (from pandas) (2023.3)\n",
            "Requirement already satisfied: idna>=2.8 in /opt/anaconda3/lib/python3.12/site-packages (from anyio<5,>=3.5.0->openai) (3.7)\n",
            "Requirement already satisfied: certifi in /opt/anaconda3/lib/python3.12/site-packages (from httpx<1,>=0.23.0->openai) (2024.7.4)\n",
            "Requirement already satisfied: httpcore==1.* in /opt/anaconda3/lib/python3.12/site-packages (from httpx<1,>=0.23.0->openai) (1.0.6)\n",
            "Requirement already satisfied: h11<0.15,>=0.13 in /opt/anaconda3/lib/python3.12/site-packages (from httpcore==1.*->httpx<1,>=0.23.0->openai) (0.14.0)\n",
            "Requirement already satisfied: PyYAML>=6.0.1 in /opt/anaconda3/lib/python3.12/site-packages (from llama-index-core<0.13.0,>=0.12.3->llama-index) (6.0.1)\n",
            "Requirement already satisfied: SQLAlchemy>=1.4.49 in /opt/anaconda3/lib/python3.12/site-packages (from SQLAlchemy[asyncio]>=1.4.49->llama-index-core<0.13.0,>=0.12.3->llama-index) (2.0.30)\n",
            "Requirement already satisfied: aiohttp<4.0.0,>=3.8.6 in /opt/anaconda3/lib/python3.12/site-packages (from llama-index-core<0.13.0,>=0.12.3->llama-index) (3.9.5)\n",
            "Requirement already satisfied: dataclasses-json in /opt/anaconda3/lib/python3.12/site-packages (from llama-index-core<0.13.0,>=0.12.3->llama-index) (0.6.7)\n",
            "Requirement already satisfied: deprecated>=1.2.9.3 in /opt/anaconda3/lib/python3.12/site-packages (from llama-index-core<0.13.0,>=0.12.3->llama-index) (1.2.15)\n",
            "Requirement already satisfied: dirtyjson<2.0.0,>=1.0.8 in /opt/anaconda3/lib/python3.12/site-packages (from llama-index-core<0.13.0,>=0.12.3->llama-index) (1.0.8)\n",
            "Requirement already satisfied: filetype<2.0.0,>=1.2.0 in /opt/anaconda3/lib/python3.12/site-packages (from llama-index-core<0.13.0,>=0.12.3->llama-index) (1.2.0)\n",
            "Requirement already satisfied: fsspec>=2023.5.0 in /opt/anaconda3/lib/python3.12/site-packages (from llama-index-core<0.13.0,>=0.12.3->llama-index) (2024.3.1)\n",
            "Requirement already satisfied: nest-asyncio<2.0.0,>=1.5.8 in /opt/anaconda3/lib/python3.12/site-packages (from llama-index-core<0.13.0,>=0.12.3->llama-index) (1.6.0)\n",
            "Requirement already satisfied: networkx>=3.0 in /opt/anaconda3/lib/python3.12/site-packages (from llama-index-core<0.13.0,>=0.12.3->llama-index) (3.2.1)\n",
            "Requirement already satisfied: pillow>=9.0.0 in /opt/anaconda3/lib/python3.12/site-packages (from llama-index-core<0.13.0,>=0.12.3->llama-index) (10.4.0)\n",
            "Requirement already satisfied: requests>=2.31.0 in /opt/anaconda3/lib/python3.12/site-packages (from llama-index-core<0.13.0,>=0.12.3->llama-index) (2.32.2)\n",
            "Requirement already satisfied: tenacity!=8.4.0,<10.0.0,>=8.2.0 in /opt/anaconda3/lib/python3.12/site-packages (from llama-index-core<0.13.0,>=0.12.3->llama-index) (8.5.0)\n",
            "Requirement already satisfied: tiktoken>=0.3.3 in /opt/anaconda3/lib/python3.12/site-packages (from llama-index-core<0.13.0,>=0.12.3->llama-index) (0.8.0)\n",
            "Requirement already satisfied: typing-inspect>=0.8.0 in /opt/anaconda3/lib/python3.12/site-packages (from llama-index-core<0.13.0,>=0.12.3->llama-index) (0.9.0)\n",
            "Requirement already satisfied: wrapt in /opt/anaconda3/lib/python3.12/site-packages (from llama-index-core<0.13.0,>=0.12.3->llama-index) (1.14.1)\n",
            "Requirement already satisfied: llama-cloud>=0.1.5 in /opt/anaconda3/lib/python3.12/site-packages (from llama-index-indices-managed-llama-cloud>=0.4.0->llama-index) (0.1.6)\n",
            "Requirement already satisfied: beautifulsoup4<5.0.0,>=4.12.3 in /opt/anaconda3/lib/python3.12/site-packages (from llama-index-readers-file<0.5.0,>=0.4.0->llama-index) (4.12.3)\n",
            "Requirement already satisfied: pypdf<6.0.0,>=5.1.0 in /opt/anaconda3/lib/python3.12/site-packages (from llama-index-readers-file<0.5.0,>=0.4.0->llama-index) (5.1.0)\n",
            "Requirement already satisfied: striprtf<0.0.27,>=0.0.26 in /opt/anaconda3/lib/python3.12/site-packages (from llama-index-readers-file<0.5.0,>=0.4.0->llama-index) (0.0.26)\n",
            "Requirement already satisfied: llama-parse>=0.5.0 in /opt/anaconda3/lib/python3.12/site-packages (from llama-index-readers-llama-parse>=0.4.0->llama-index) (0.5.17)\n",
            "Requirement already satisfied: click in /opt/anaconda3/lib/python3.12/site-packages (from nltk>3.8.1->llama-index) (8.1.7)\n",
            "Requirement already satisfied: joblib in /opt/anaconda3/lib/python3.12/site-packages (from nltk>3.8.1->llama-index) (1.4.2)\n",
            "Requirement already satisfied: regex>=2021.8.3 in /opt/anaconda3/lib/python3.12/site-packages (from nltk>3.8.1->llama-index) (2023.10.3)\n",
            "Requirement already satisfied: annotated-types>=0.6.0 in /opt/anaconda3/lib/python3.12/site-packages (from pydantic<3,>=1.9.0->openai) (0.6.0)\n",
            "Requirement already satisfied: pydantic-core==2.23.4 in /opt/anaconda3/lib/python3.12/site-packages (from pydantic<3,>=1.9.0->openai) (2.23.4)\n",
            "Requirement already satisfied: six>=1.5 in /opt/anaconda3/lib/python3.12/site-packages (from python-dateutil>=2.8.2->pandas) (1.16.0)\n",
            "Requirement already satisfied: aiosignal>=1.1.2 in /opt/anaconda3/lib/python3.12/site-packages (from aiohttp<4.0.0,>=3.8.6->llama-index-core<0.13.0,>=0.12.3->llama-index) (1.2.0)\n",
            "Requirement already satisfied: attrs>=17.3.0 in /opt/anaconda3/lib/python3.12/site-packages (from aiohttp<4.0.0,>=3.8.6->llama-index-core<0.13.0,>=0.12.3->llama-index) (23.1.0)\n",
            "Requirement already satisfied: frozenlist>=1.1.1 in /opt/anaconda3/lib/python3.12/site-packages (from aiohttp<4.0.0,>=3.8.6->llama-index-core<0.13.0,>=0.12.3->llama-index) (1.4.0)\n",
            "Requirement already satisfied: multidict<7.0,>=4.5 in /opt/anaconda3/lib/python3.12/site-packages (from aiohttp<4.0.0,>=3.8.6->llama-index-core<0.13.0,>=0.12.3->llama-index) (6.0.4)\n",
            "Requirement already satisfied: yarl<2.0,>=1.0 in /opt/anaconda3/lib/python3.12/site-packages (from aiohttp<4.0.0,>=3.8.6->llama-index-core<0.13.0,>=0.12.3->llama-index) (1.9.3)\n",
            "Requirement already satisfied: soupsieve>1.2 in /opt/anaconda3/lib/python3.12/site-packages (from beautifulsoup4<5.0.0,>=4.12.3->llama-index-readers-file<0.5.0,>=0.4.0->llama-index) (2.5)\n",
            "Requirement already satisfied: charset-normalizer<4,>=2 in /opt/anaconda3/lib/python3.12/site-packages (from requests>=2.31.0->llama-index-core<0.13.0,>=0.12.3->llama-index) (2.0.4)\n",
            "Requirement already satisfied: urllib3<3,>=1.21.1 in /opt/anaconda3/lib/python3.12/site-packages (from requests>=2.31.0->llama-index-core<0.13.0,>=0.12.3->llama-index) (2.2.2)\n",
            "Requirement already satisfied: greenlet!=0.4.17 in /opt/anaconda3/lib/python3.12/site-packages (from SQLAlchemy[asyncio]>=1.4.49->llama-index-core<0.13.0,>=0.12.3->llama-index) (3.0.1)\n",
            "Requirement already satisfied: mypy-extensions>=0.3.0 in /opt/anaconda3/lib/python3.12/site-packages (from typing-inspect>=0.8.0->llama-index-core<0.13.0,>=0.12.3->llama-index) (1.0.0)\n",
            "Requirement already satisfied: marshmallow<4.0.0,>=3.18.0 in /opt/anaconda3/lib/python3.12/site-packages (from dataclasses-json->llama-index-core<0.13.0,>=0.12.3->llama-index) (3.23.1)\n"
          ]
        }
      ],
      "source": [
        "# Install OpenAI, LlamaIndex\n",
        "!pip install llama-index faiss-cpu openai pandas"
      ]
    },
    {
      "cell_type": "code",
      "execution_count": 9,
      "metadata": {
        "id": "ZMg1JdbzyrAx"
      },
      "outputs": [],
      "source": [
        "## Install supporting libraries\n",
        "import pandas as pd\n",
        "from llama_index.core import  Document,VectorStoreIndex, ServiceContext, SimpleDirectoryReader"
      ]
    },
    {
      "cell_type": "code",
      "execution_count": 10,
      "metadata": {
        "id": "dA7vl6Izyr6p"
      },
      "outputs": [],
      "source": [
        "# Import libraries\n",
        "\n",
        "from llama_index.llms.openai import OpenAI\n",
        "from tenacity import retry, wait_random_exponential, stop_after_attempt\n",
        "from llama_index.core.llms import ChatMessage\n",
        "from llama_index.core.node_parser import SimpleFileNodeParser\n",
        "from IPython.display import display, HTML\n",
        "# Set the display width to control the output width\n",
        "pd.set_option('display.width', 100)\n",
        "import os, json\n",
        "import openai\n",
        "import pandas as pd"
      ]
    },
    {
      "cell_type": "markdown",
      "metadata": {
        "id": "5k-Q2CUPv6oR"
      },
      "source": [
        "### 2.2 Set paths and the API key"
      ]
    },
    {
      "cell_type": "code",
      "execution_count": 12,
      "metadata": {
        "colab": {
          "base_uri": "https://localhost:8080/"
        },
        "id": "Y4ZMY0zEzKF5",
        "outputId": "e548517f-3bcb-4f84-d11b-ee923eb01476"
      },
      "outputs": [],
      "source": []
    },
    {
      "cell_type": "code",
      "execution_count": 13,
      "metadata": {
        "id": "BG11MkPZz6bw"
      },
      "outputs": [],
      "source": [
        "# Read the OpenAI API key\n",
        "openai.api_key = open(\"OpenAI_API_key.txt\", \"r\").read().strip()\n",
        "os.environ['OpenAI_API_key'] = openai.api_key"
      ]
    },
    {
      "cell_type": "markdown",
      "metadata": {
        "id": "Pzmn6vznv_3h"
      },
      "source": [
        "### 2.3 Data Loading"
      ]
    },
    {
      "cell_type": "code",
      "execution_count": 14,
      "metadata": {
        "colab": {
          "base_uri": "https://localhost:8080/",
          "height": 712
        },
        "id": "lt7lWSpJzdCw",
        "outputId": "cb79e8ab-8b6c-4180-9491-883f46b69c2f"
      },
      "outputs": [
        {
          "data": {
            "text/html": [
              "<div>\n",
              "<style scoped>\n",
              "    .dataframe tbody tr th:only-of-type {\n",
              "        vertical-align: middle;\n",
              "    }\n",
              "\n",
              "    .dataframe tbody tr th {\n",
              "        vertical-align: top;\n",
              "    }\n",
              "\n",
              "    .dataframe thead th {\n",
              "        text-align: right;\n",
              "    }\n",
              "</style>\n",
              "<table border=\"1\" class=\"dataframe\">\n",
              "  <thead>\n",
              "    <tr style=\"text-align: right;\">\n",
              "      <th></th>\n",
              "      <th>Unnamed: 0</th>\n",
              "      <th>p_id</th>\n",
              "      <th>name</th>\n",
              "      <th>price</th>\n",
              "      <th>colour</th>\n",
              "      <th>brand</th>\n",
              "      <th>img</th>\n",
              "      <th>ratingCount</th>\n",
              "      <th>avg_rating</th>\n",
              "      <th>description</th>\n",
              "      <th>p_attributes</th>\n",
              "    </tr>\n",
              "  </thead>\n",
              "  <tbody>\n",
              "    <tr>\n",
              "      <th>0</th>\n",
              "      <td>0</td>\n",
              "      <td>17048614.0</td>\n",
              "      <td>Khushal K Women Black Ethnic Motifs Printed Ku...</td>\n",
              "      <td>5099.0</td>\n",
              "      <td>Black</td>\n",
              "      <td>Khushal K</td>\n",
              "      <td>http://assets.myntassets.com/assets/images/170...</td>\n",
              "      <td>4522.0</td>\n",
              "      <td>4.418399</td>\n",
              "      <td>Black printed Kurta with Palazzos with dupatta...</td>\n",
              "      <td>{'Add-Ons': 'NA', 'Body Shape ID': '443,333,32...</td>\n",
              "    </tr>\n",
              "    <tr>\n",
              "      <th>1</th>\n",
              "      <td>1</td>\n",
              "      <td>16524740.0</td>\n",
              "      <td>InWeave Women Orange Solid Kurta with Palazzos...</td>\n",
              "      <td>5899.0</td>\n",
              "      <td>Orange</td>\n",
              "      <td>InWeave</td>\n",
              "      <td>http://assets.myntassets.com/assets/images/165...</td>\n",
              "      <td>1081.0</td>\n",
              "      <td>4.119334</td>\n",
              "      <td>Orange solid Kurta with Palazzos with dupatta&lt;...</td>\n",
              "      <td>{'Add-Ons': 'NA', 'Body Shape ID': '443,333,32...</td>\n",
              "    </tr>\n",
              "    <tr>\n",
              "      <th>2</th>\n",
              "      <td>2</td>\n",
              "      <td>16331376.0</td>\n",
              "      <td>Anubhutee Women Navy Blue Ethnic Motifs Embroi...</td>\n",
              "      <td>4899.0</td>\n",
              "      <td>Navy Blue</td>\n",
              "      <td>Anubhutee</td>\n",
              "      <td>http://assets.myntassets.com/assets/images/163...</td>\n",
              "      <td>1752.0</td>\n",
              "      <td>4.161530</td>\n",
              "      <td>Navy blue embroidered Kurta with Trousers with...</td>\n",
              "      <td>{'Add-Ons': 'NA', 'Body Shape ID': '333,424', ...</td>\n",
              "    </tr>\n",
              "    <tr>\n",
              "      <th>3</th>\n",
              "      <td>3</td>\n",
              "      <td>14709966.0</td>\n",
              "      <td>Nayo Women Red Floral Printed Kurta With Trous...</td>\n",
              "      <td>3699.0</td>\n",
              "      <td>Red</td>\n",
              "      <td>Nayo</td>\n",
              "      <td>http://assets.myntassets.com/assets/images/147...</td>\n",
              "      <td>4113.0</td>\n",
              "      <td>4.088986</td>\n",
              "      <td>Red printed kurta with trouser and dupatta&lt;br&gt;...</td>\n",
              "      <td>{'Add-Ons': 'NA', 'Body Shape ID': '333,424', ...</td>\n",
              "    </tr>\n",
              "    <tr>\n",
              "      <th>4</th>\n",
              "      <td>4</td>\n",
              "      <td>11056154.0</td>\n",
              "      <td>AHIKA Women Black &amp; Green Printed Straight Kurta</td>\n",
              "      <td>1350.0</td>\n",
              "      <td>Black</td>\n",
              "      <td>AHIKA</td>\n",
              "      <td>http://assets.myntassets.com/assets/images/110...</td>\n",
              "      <td>21274.0</td>\n",
              "      <td>3.978377</td>\n",
              "      <td>Black and green printed straight kurta, has a ...</td>\n",
              "      <td>{'Body Shape ID': '424', 'Body or Garment Size...</td>\n",
              "    </tr>\n",
              "  </tbody>\n",
              "</table>\n",
              "</div>"
            ],
            "text/plain": [
              "   Unnamed: 0        p_id                                               name   price     colour  \\\n",
              "0           0  17048614.0  Khushal K Women Black Ethnic Motifs Printed Ku...  5099.0      Black   \n",
              "1           1  16524740.0  InWeave Women Orange Solid Kurta with Palazzos...  5899.0     Orange   \n",
              "2           2  16331376.0  Anubhutee Women Navy Blue Ethnic Motifs Embroi...  4899.0  Navy Blue   \n",
              "3           3  14709966.0  Nayo Women Red Floral Printed Kurta With Trous...  3699.0        Red   \n",
              "4           4  11056154.0   AHIKA Women Black & Green Printed Straight Kurta  1350.0      Black   \n",
              "\n",
              "       brand                                                img  ratingCount  avg_rating  \\\n",
              "0  Khushal K  http://assets.myntassets.com/assets/images/170...       4522.0    4.418399   \n",
              "1    InWeave  http://assets.myntassets.com/assets/images/165...       1081.0    4.119334   \n",
              "2  Anubhutee  http://assets.myntassets.com/assets/images/163...       1752.0    4.161530   \n",
              "3       Nayo  http://assets.myntassets.com/assets/images/147...       4113.0    4.088986   \n",
              "4      AHIKA  http://assets.myntassets.com/assets/images/110...      21274.0    3.978377   \n",
              "\n",
              "                                         description  \\\n",
              "0  Black printed Kurta with Palazzos with dupatta...   \n",
              "1  Orange solid Kurta with Palazzos with dupatta<...   \n",
              "2  Navy blue embroidered Kurta with Trousers with...   \n",
              "3  Red printed kurta with trouser and dupatta<br>...   \n",
              "4  Black and green printed straight kurta, has a ...   \n",
              "\n",
              "                                        p_attributes  \n",
              "0  {'Add-Ons': 'NA', 'Body Shape ID': '443,333,32...  \n",
              "1  {'Add-Ons': 'NA', 'Body Shape ID': '443,333,32...  \n",
              "2  {'Add-Ons': 'NA', 'Body Shape ID': '333,424', ...  \n",
              "3  {'Add-Ons': 'NA', 'Body Shape ID': '333,424', ...  \n",
              "4  {'Body Shape ID': '424', 'Body or Garment Size...  "
            ]
          },
          "execution_count": 14,
          "metadata": {},
          "output_type": "execute_result"
        }
      ],
      "source": [
        "# Read the dataset and product Dataset\n",
        "df = pd.read_csv('FashionDataset.csv')\n",
        "df.head()"
      ]
    },
    {
      "cell_type": "code",
      "execution_count": 15,
      "metadata": {
        "colab": {
          "base_uri": "https://localhost:8080/"
        },
        "id": "APmpMg503BBw",
        "outputId": "ef08aae8-7a42-4b99-8cc9-df3e2ae51c14"
      },
      "outputs": [
        {
          "data": {
            "text/plain": [
              "Index(['Unnamed: 0', 'p_id', 'name', 'price', 'colour', 'brand', 'img', 'ratingCount',\n",
              "       'avg_rating', 'description', 'p_attributes'],\n",
              "      dtype='object')"
            ]
          },
          "execution_count": 15,
          "metadata": {},
          "output_type": "execute_result"
        }
      ],
      "source": [
        "df.columns"
      ]
    },
    {
      "cell_type": "code",
      "execution_count": 16,
      "metadata": {
        "colab": {
          "base_uri": "https://localhost:8080/"
        },
        "id": "ofx75w_40QWf",
        "outputId": "30dcb842-b403-438b-eadd-bd60734b7363"
      },
      "outputs": [],
      "source": [
        "#clean the dataset by handling nulls\n",
        "df['ratingCount']=df['ratingCount'].fillna(0)\n",
        "df['avg_rating']=df['avg_rating'].fillna(0)\n",
        "df.isnull().sum()\n",
        "df=df[~df.colour.isnull()]\n",
        "df.isnull().sum()\n",
        "## Create gender column from text data\n",
        "def getGender(x):\n",
        "\n",
        "  if 'women' in x.lower():\n",
        "    return 'women'\n",
        "  if ' men' in x.lower():\n",
        "    if 'women' not in x.lower():\n",
        "      return 'men'\n",
        "    else:\n",
        "      return 'men'\n",
        "  if 'kids' in x.lower():\n",
        "    return 'kids'\n",
        "\n",
        "\n",
        "df['Gender']=df['name'].apply(getGender)"
      ]
    },
    {
      "cell_type": "markdown",
      "metadata": {
        "id": "YkBBAfY-wKt5"
      },
      "source": [
        "### 2.4 Embed the documents, parse into nodes , Build Index and query engine"
      ]
    },
    {
      "cell_type": "code",
      "execution_count": 17,
      "metadata": {
        "id": "PtoQBLH8vJWe"
      },
      "outputs": [],
      "source": [
        "from llama_index.embeddings.openai import OpenAIEmbedding\n",
        "from llama_index.core.node_parser import SentenceSplitter\n",
        "from llama_index.llms.openai import OpenAI\n",
        "from llama_index.core import Settings\n",
        "\n",
        "##Initialize the OpenAI model\n",
        "Settings.llm = OpenAI(model=\"gpt-3.5-turbo\", temperature=0, max_tokens=256)\n",
        "\n",
        "##Initialize the embedding model\n",
        "Settings.embed_model = OpenAIEmbedding()\n",
        "\n",
        "## Initialize the node_parser with custom node settings\n",
        "Settings.node_parser = SentenceSplitter(chunk_size=512, chunk_overlap=20)\n",
        "\n",
        "## Initialize the num_output and context window\n",
        "Settings.num_output = 512\n",
        "Settings.context_window = 3900\n",
        "\n",
        "# Convert the product data into list of Document objects\n",
        "documents = [\n",
        "    Document(\n",
        "        id=row['p_id'],\n",
        "        text=row['name'],\n",
        "        brand=str(row['brand']),\n",
        "        extra_info={\n",
        "            'colour': row['colour'],\n",
        "            'price': row['price'],\n",
        "            'Gender': row['Gender'],\n",
        "            'ratingcount': row['ratingCount'],\n",
        "            'avg_rating': row['avg_rating'],\n",
        "            'description': row['description']\n",
        "        }\n",
        "    )\n",
        "    for _, row in df.iterrows()\n",
        "]\n",
        "\n",
        "\n",
        "\n",
        "\n",
        "# Create a VectorStoreIndex from a list of documents using the service context\n",
        "index = VectorStoreIndex.from_documents(documents)\n",
        "\n",
        "# Initialize a query engine for the index with a specified similarity top-k value\n",
        "query_engine = index.as_query_engine(similarity_top_k=3)"
      ]
    },
    {
      "cell_type": "code",
      "execution_count": 18,
      "metadata": {
        "colab": {
          "base_uri": "https://localhost:8080/"
        },
        "id": "0gh4hQkn7AMn",
        "outputId": "9b87ac42-39bf-4eba-aa3a-4ee1cc99b629"
      },
      "outputs": [
        {
          "data": {
            "text/plain": [
              "Response(response='The Sera Women Stylish Black Floral Dress in size S would be a great choice for women looking for a dress in size S.', source_nodes=[NodeWithScore(node=TextNode(id_='1933a60e-87f7-4d8a-b1c1-47c5e104c303', embedding=None, metadata={'colour': 'Black', 'price': 2998.0, 'Gender': 'women', 'ratingcount': 11.0, 'avg_rating': 2.8181818181818183, 'description': \"Spruce up the style of your closet with this trendy dress. It features a floral print and long sleeves that will accentuate your silhouette.&nbsp;<ul><li>Stylish black colour</li><li>Beautiful floral print</li><li>Flounced hemline</li><li>Long puff sleeves</li><li>Polyester, machine wash</li></ul><b>Trend Alert</b><br>Originated in the 18th century, the sweetheart neckline is still a popular fashion choice. It is characterised by the prominent, scalloped shape that resembles the top of a heart. It lengthens the neck and adds balance to the overall silhouette while lending a curvy touch.The model (height 5'8) is wearing a size SPolyester , <br> Machine wash\"}, excluded_embed_metadata_keys=[], excluded_llm_metadata_keys=[], relationships={<NodeRelationship.SOURCE: '1'>: RelatedNodeInfo(node_id='05d882fa-7851-4c63-8942-bd890014cd6f', node_type='4', metadata={'colour': 'Black', 'price': 2998.0, 'Gender': 'women', 'ratingcount': 11.0, 'avg_rating': 2.8181818181818183, 'description': \"Spruce up the style of your closet with this trendy dress. It features a floral print and long sleeves that will accentuate your silhouette.&nbsp;<ul><li>Stylish black colour</li><li>Beautiful floral print</li><li>Flounced hemline</li><li>Long puff sleeves</li><li>Polyester, machine wash</li></ul><b>Trend Alert</b><br>Originated in the 18th century, the sweetheart neckline is still a popular fashion choice. It is characterised by the prominent, scalloped shape that resembles the top of a heart. It lengthens the neck and adds balance to the overall silhouette while lending a curvy touch.The model (height 5'8) is wearing a size SPolyester , <br> Machine wash\"}, hash='982d664266c55eabc377caf8a4643a14d34962284fcb02108158ba06e0799ebc')}, metadata_template='{key}: {value}', metadata_separator='\\n', text='Sera Women Stylish Black Floral Dress', mimetype='text/plain', start_char_idx=0, end_char_idx=37, metadata_seperator='\\n', text_template='{metadata_str}\\n\\n{content}'), score=0.8373255794390788), NodeWithScore(node=TextNode(id_='9f58f1b4-c5b3-43c8-b87b-3eeab52ed80c', embedding=None, metadata={'colour': 'Blue', 'price': 2998.0, 'Gender': 'women', 'ratingcount': 4.0, 'avg_rating': 2.5, 'description': \"A timeless piece, this dress is sure to be your favourite in no time. The floral print and long sleeves make this dress stand apart beautifully.&nbsp;<ul><li>Stunning blue colour</li><li>Beautiful floral print</li><li>High-low hemline</li><li>Long puff sleeves</li><li>Polyester, machine wash</li></ul><b>Trend Alert</b><br>Originated in the 18th century, the sweetheart neckline is still a popular fashion choice. It is characterised by the prominent, scalloped shape that resembles the top of a heart. It lengthens the neck and adds balance to the overall silhouette while lending a curvy touch.Polyester , <br> Machine washThe model (height 5'8) is wearing a size S\"}, excluded_embed_metadata_keys=[], excluded_llm_metadata_keys=[], relationships={<NodeRelationship.SOURCE: '1'>: RelatedNodeInfo(node_id='fb83a8c9-5ca5-40a6-9f2e-99f90310c120', node_type='4', metadata={'colour': 'Blue', 'price': 2998.0, 'Gender': 'women', 'ratingcount': 4.0, 'avg_rating': 2.5, 'description': \"A timeless piece, this dress is sure to be your favourite in no time. The floral print and long sleeves make this dress stand apart beautifully.&nbsp;<ul><li>Stunning blue colour</li><li>Beautiful floral print</li><li>High-low hemline</li><li>Long puff sleeves</li><li>Polyester, machine wash</li></ul><b>Trend Alert</b><br>Originated in the 18th century, the sweetheart neckline is still a popular fashion choice. It is characterised by the prominent, scalloped shape that resembles the top of a heart. It lengthens the neck and adds balance to the overall silhouette while lending a curvy touch.Polyester , <br> Machine washThe model (height 5'8) is wearing a size S\"}, hash='19d79b3e1e80fed82535b4c8101277e28d88ba174307c04b0652afcc54d2bbb1')}, metadata_template='{key}: {value}', metadata_separator='\\n', text='Sera Women Stunning Blue Floral Dress', mimetype='text/plain', start_char_idx=0, end_char_idx=37, metadata_seperator='\\n', text_template='{metadata_str}\\n\\n{content}'), score=0.8264104004529281), NodeWithScore(node=TextNode(id_='d16c58b3-f714-41ee-8f24-7306759ab254', embedding=None, metadata={'colour': 'Black', 'price': 4299.0, 'Gender': 'women', 'ratingcount': 19.0, 'avg_rating': 4.0, 'description': \"This co-ordinate set consists of a Dress and a Shrug<br>Black solid sleeveless midi dress ,has a round neck, shoulder straps, and gold-toned embellishments<br>Black and white polka dot printed Shrug ,has three-quarter sleeves, and tie-up closure at the frontThe model (height 5'8) is wearing a size S100% Polyester<br>Machine-wash\"}, excluded_embed_metadata_keys=[], excluded_llm_metadata_keys=[], relationships={<NodeRelationship.SOURCE: '1'>: RelatedNodeInfo(node_id='356c9368-25d0-47a6-b033-4231005ffa56', node_type='4', metadata={'colour': 'Black', 'price': 4299.0, 'Gender': 'women', 'ratingcount': 19.0, 'avg_rating': 4.0, 'description': \"This co-ordinate set consists of a Dress and a Shrug<br>Black solid sleeveless midi dress ,has a round neck, shoulder straps, and gold-toned embellishments<br>Black and white polka dot printed Shrug ,has three-quarter sleeves, and tie-up closure at the frontThe model (height 5'8) is wearing a size S100% Polyester<br>Machine-wash\"}, hash='9ce702764b0e5d66d569b10ee91e9627e58158b83545b7f4914e1e354f3832d1')}, metadata_template='{key}: {value}', metadata_separator='\\n', text='all about you Women Black Solid Sleeveless Midi Dress With Printed Shrug', mimetype='text/plain', start_char_idx=0, end_char_idx=72, metadata_seperator='\\n', text_template='{metadata_str}\\n\\n{content}'), score=0.8242698984143194)], metadata={'1933a60e-87f7-4d8a-b1c1-47c5e104c303': {'colour': 'Black', 'price': 2998.0, 'Gender': 'women', 'ratingcount': 11.0, 'avg_rating': 2.8181818181818183, 'description': \"Spruce up the style of your closet with this trendy dress. It features a floral print and long sleeves that will accentuate your silhouette.&nbsp;<ul><li>Stylish black colour</li><li>Beautiful floral print</li><li>Flounced hemline</li><li>Long puff sleeves</li><li>Polyester, machine wash</li></ul><b>Trend Alert</b><br>Originated in the 18th century, the sweetheart neckline is still a popular fashion choice. It is characterised by the prominent, scalloped shape that resembles the top of a heart. It lengthens the neck and adds balance to the overall silhouette while lending a curvy touch.The model (height 5'8) is wearing a size SPolyester , <br> Machine wash\"}, '9f58f1b4-c5b3-43c8-b87b-3eeab52ed80c': {'colour': 'Blue', 'price': 2998.0, 'Gender': 'women', 'ratingcount': 4.0, 'avg_rating': 2.5, 'description': \"A timeless piece, this dress is sure to be your favourite in no time. The floral print and long sleeves make this dress stand apart beautifully.&nbsp;<ul><li>Stunning blue colour</li><li>Beautiful floral print</li><li>High-low hemline</li><li>Long puff sleeves</li><li>Polyester, machine wash</li></ul><b>Trend Alert</b><br>Originated in the 18th century, the sweetheart neckline is still a popular fashion choice. It is characterised by the prominent, scalloped shape that resembles the top of a heart. It lengthens the neck and adds balance to the overall silhouette while lending a curvy touch.Polyester , <br> Machine washThe model (height 5'8) is wearing a size S\"}, 'd16c58b3-f714-41ee-8f24-7306759ab254': {'colour': 'Black', 'price': 4299.0, 'Gender': 'women', 'ratingcount': 19.0, 'avg_rating': 4.0, 'description': \"This co-ordinate set consists of a Dress and a Shrug<br>Black solid sleeveless midi dress ,has a round neck, shoulder straps, and gold-toned embellishments<br>Black and white polka dot printed Shrug ,has three-quarter sleeves, and tie-up closure at the frontThe model (height 5'8) is wearing a size S100% Polyester<br>Machine-wash\"}})"
            ]
          },
          "execution_count": 18,
          "metadata": {},
          "output_type": "execute_result"
        }
      ],
      "source": [
        "response = query_engine.query(\"Suggest dress for women in size s?\")\n",
        "response"
      ]
    },
    {
      "cell_type": "markdown",
      "metadata": {
        "id": "zGUDVLQ76g65"
      },
      "source": [
        "### 2.5 Implement Intent clarity & Intent confirmation layers"
      ]
    },
    {
      "cell_type": "markdown",
      "metadata": {
        "id": "wYp3Q1AzBI4C"
      },
      "source": [
        "#### Initialize conversation"
      ]
    },
    {
      "cell_type": "code",
      "execution_count": 19,
      "metadata": {
        "id": "Y7wd7q0N6fdZ"
      },
      "outputs": [],
      "source": [
        "def initialize_conversation():\n",
        "    '''\n",
        "    Returns a list [{\"role\": \"system\", \"content\": system_message}]\n",
        "    '''\n",
        "\n",
        "    delimiter = \"####\"\n",
        "\n",
        "    example_user_dict = {'price': 1000,\n",
        "                        'colour':\"red\",\n",
        "\n",
        "                        'avg_rating': 3}\n",
        "\n",
        "    example_user_req = {'price': \"_\",\n",
        "                        'colour': \"_\",\n",
        "\n",
        "                        'avg_rating': \"_\"}\n",
        "\n",
        "    system_message = f\"\"\"\n",
        "    You are an intelligent fasion search AI and your goal is to find the best fashion product for a user.\n",
        "    You need to ask relevant questions and understand the user profile by analysing the user's responses.\n",
        "    You final objective is to fill the values for the different keys ('colour','price','avg_rating') in the python dictionary and be confident of the values.\n",
        "    These key value pairs define the user's profile.\n",
        "    The python dictionary looks like this\n",
        "    {{'colour': 'values','price': 'values','avg_rating': 'values'}}\n",
        "    The value for 'price' and 'avg_rating' should be a numerical value extracted from the user's response.\n",
        "    All the values in the example dictionary are only representative values.\n",
        "    {delimiter}\n",
        "    Here are some instructions around the values for the different keys. If you do not follow this, you'll be heavily penalised:\n",
        "    - The value for 'price' should be a numerical value extracted from the user's response.\n",
        "\n",
        "    - 'price' value needs to be greater than or equal to 170 INR. If the user says less than that, please mention that there are no products in that range.\n",
        "    - 'avg_rating' needs to range from 1 to 5.\n",
        "    - 'colour' should be colours.\n",
        "    Strongly ensure that If the 'colour' value is already provided, do not ask further questions on other shades. Go ahead with the provided colour as it is.\n",
        "    - Do not randomly assign values to any of the keys.\n",
        "    - The values need to be inferred from the user's response.\n",
        "    {delimiter}\n",
        "\n",
        "    To fill the dictionary, you need to have the following chain of thoughts:\n",
        "    Follow the chain-of-thoughts below and only output the final updated python dictionary for the keys as described in {example_user_req}. \\n\n",
        "    {delimiter}\n",
        "    Thought 1: Ask a question to understand the user's profile and requirements. \\n\n",
        "    If their primary use for the product is unclear. Ask followup questions to understand their needs.\n",
        "    You are trying to fill the values of the keys {{'price','colour','avg_rating'}} in the python dictionary by understanding the user requirements.\n",
        "    Identify the keys for which you can fill the values confidently using the understanding. \\n\n",
        "    If the user is not specific about 'avg_rating', you can proceed without it.\n",
        "    Remember the instructions around the values for the different keys.\n",
        "    If the necessary information has been extracted, only then proceed to the next step. \\n\n",
        "    Otherwise, rephrase the question to capture their profile clearly. \\n\n",
        "\n",
        "    {delimiter}\n",
        "    Thought 2: Now, you are trying to fill the values for the rest of the keys which you couldn't in the previous step.\n",
        "    Remember the instructions around the values for the different keys.\n",
        "    For 'price' look up, searc for numerical values in the user input that are closely followed/preceded by words like 'INR' or 'rupees' or 'budget' or 'price' or 'rs\n",
        "    Ask questions you might have for all the keys to strengthen your understanding of the user's profile.\n",
        "    If yes, move to the next Thought. If no, ask question on the keys whose values you are unsure of. \\n\n",
        "    It is a good practice to ask question with a sound logic as opposed to directly citing the key you want to understand value for.\n",
        "    {delimiter}\n",
        "\n",
        "    {delimiter}\n",
        "    Thought 3: Check if you have correctly updated the values for the different keys in the python dictionary.\n",
        "    If you are not confident about any of the values, ask clarifying questions.\n",
        "    {delimiter}\n",
        "\n",
        "    {delimiter}\n",
        "    Here is a sample conversation between the user and assistant:\n",
        "    User: \"Hi, I am a working women.\"\n",
        "    Assistant: \"Great! As a working women, you likely require a fashion products that are comfortable and also office wear. Let me know if my understanding is correct until now.\"\n",
        "    User: \"Yes\"\n",
        "    Assistant: \"Thank you for providing that information. Are you lookiong for any specific colour\"\n",
        "    User: \"Yes, red\"\n",
        "    Assistant: \"Thank you for the information. Processing red office wear products.To ensure I have a complete understanding of your needs, I have one more question: Are you looking at high rated products\"\n",
        "    User: \"Yes, I am looking for products rated above 3.\"\n",
        "    Assistant:\"Could you kindly let me know your price range for the product? This will help me find options that fit within your price range while meeting the specified requirements.\"\n",
        "    User: \"my max budget is 1000 inr\"\n",
        "    Assistant: \"{example_user_dict}\"\n",
        "    {delimiter}\n",
        "    {delimiter}\n",
        "    Here is a another ample conversation between the user and assistant:\n",
        "    User: \"Hi, I am looking for activewear for my kids.\"\n",
        "    Assistant: \"Great! For kids activewear, you likely require a fashion products that are comfortable and vibrant. Let me know if my understanding is correct until now.\"\n",
        "    User: \"Yes\"\n",
        "    Assistant: \"Thank you for providing that information. Are you looking for any specific colour\"\n",
        "    User: \"Yes, red\"\n",
        "    Assistant: \"Thank you for the information. Processing red active wear products for kids.To ensure I have a complete understanding of your needs, I have one more question: Are you looking at high rated products\"\n",
        "    User: \"Yes, I am looking for products rated above 3.\"\n",
        "    Assistant:\"Could you kindly let me know your price range for the product? This will help me find options that fit within your price range while meeting the specified requirements.\"\n",
        "    User: \"my max budget is 1000 rs\"\n",
        "    Assistant: \"{example_user_dict}\"\n",
        "    {delimiter}\n",
        "    Start with a short welcome message and encourage the user to share their requirements.\n",
        "    \"\"\"\n",
        "    conversation = [{\"role\": \"system\", \"content\": system_message}]\n",
        "    # conversation = system_message\n",
        "    return conversation"
      ]
    },
    {
      "cell_type": "code",
      "execution_count": 20,
      "metadata": {
        "colab": {
          "base_uri": "https://localhost:8080/"
        },
        "id": "_k-lG3tF_nCI",
        "outputId": "36ae32f3-b714-483e-9f38-7422b0b5d5be"
      },
      "outputs": [
        {
          "name": "stdout",
          "output_type": "stream",
          "text": [
            "[{'role': 'system', 'content': '\\n    You are an intelligent fasion search AI and your goal is to find the best fashion product for a user.\\n    You need to ask relevant questions and understand the user profile by analysing the user\\'s responses.\\n    You final objective is to fill the values for the different keys (\\'colour\\',\\'price\\',\\'avg_rating\\') in the python dictionary and be confident of the values.\\n    These key value pairs define the user\\'s profile.\\n    The python dictionary looks like this\\n    {\\'colour\\': \\'values\\',\\'price\\': \\'values\\',\\'avg_rating\\': \\'values\\'}\\n    The value for \\'price\\' and \\'avg_rating\\' should be a numerical value extracted from the user\\'s response.\\n    All the values in the example dictionary are only representative values.\\n    ####\\n    Here are some instructions around the values for the different keys. If you do not follow this, you\\'ll be heavily penalised:\\n    - The value for \\'price\\' should be a numerical value extracted from the user\\'s response.\\n\\n    - \\'price\\' value needs to be greater than or equal to 170 INR. If the user says less than that, please mention that there are no products in that range.\\n    - \\'avg_rating\\' needs to range from 1 to 5.\\n    - \\'colour\\' should be colours.\\n    Strongly ensure that If the \\'colour\\' value is already provided, do not ask further questions on other shades. Go ahead with the provided colour as it is.\\n    - Do not randomly assign values to any of the keys.\\n    - The values need to be inferred from the user\\'s response.\\n    ####\\n\\n    To fill the dictionary, you need to have the following chain of thoughts:\\n    Follow the chain-of-thoughts below and only output the final updated python dictionary for the keys as described in {\\'price\\': \\'_\\', \\'colour\\': \\'_\\', \\'avg_rating\\': \\'_\\'}. \\n\\n    ####\\n    Thought 1: Ask a question to understand the user\\'s profile and requirements. \\n\\n    If their primary use for the product is unclear. Ask followup questions to understand their needs.\\n    You are trying to fill the values of the keys {\\'price\\',\\'colour\\',\\'avg_rating\\'} in the python dictionary by understanding the user requirements.\\n    Identify the keys for which you can fill the values confidently using the understanding. \\n\\n    If the user is not specific about \\'avg_rating\\', you can proceed without it.\\n    Remember the instructions around the values for the different keys.\\n    If the necessary information has been extracted, only then proceed to the next step. \\n\\n    Otherwise, rephrase the question to capture their profile clearly. \\n\\n\\n    ####\\n    Thought 2: Now, you are trying to fill the values for the rest of the keys which you couldn\\'t in the previous step.\\n    Remember the instructions around the values for the different keys.\\n    For \\'price\\' look up, searc for numerical values in the user input that are closely followed/preceded by words like \\'INR\\' or \\'rupees\\' or \\'budget\\' or \\'price\\' or \\'rs\\n    Ask questions you might have for all the keys to strengthen your understanding of the user\\'s profile.\\n    If yes, move to the next Thought. If no, ask question on the keys whose values you are unsure of. \\n\\n    It is a good practice to ask question with a sound logic as opposed to directly citing the key you want to understand value for.\\n    ####\\n\\n    ####\\n    Thought 3: Check if you have correctly updated the values for the different keys in the python dictionary.\\n    If you are not confident about any of the values, ask clarifying questions.\\n    ####\\n\\n    ####\\n    Here is a sample conversation between the user and assistant:\\n    User: \"Hi, I am a working women.\"\\n    Assistant: \"Great! As a working women, you likely require a fashion products that are comfortable and also office wear. Let me know if my understanding is correct until now.\"\\n    User: \"Yes\"\\n    Assistant: \"Thank you for providing that information. Are you lookiong for any specific colour\"\\n    User: \"Yes, red\"\\n    Assistant: \"Thank you for the information. Processing red office wear products.To ensure I have a complete understanding of your needs, I have one more question: Are you looking at high rated products\"\\n    User: \"Yes, I am looking for products rated above 3.\"\\n    Assistant:\"Could you kindly let me know your price range for the product? This will help me find options that fit within your price range while meeting the specified requirements.\"\\n    User: \"my max budget is 1000 inr\"\\n    Assistant: \"{\\'price\\': 1000, \\'colour\\': \\'red\\', \\'avg_rating\\': 3}\"\\n    ####\\n    ####\\n    Here is a another ample conversation between the user and assistant:\\n    User: \"Hi, I am looking for activewear for my kids.\"\\n    Assistant: \"Great! For kids activewear, you likely require a fashion products that are comfortable and vibrant. Let me know if my understanding is correct until now.\"\\n    User: \"Yes\"\\n    Assistant: \"Thank you for providing that information. Are you looking for any specific colour\"\\n    User: \"Yes, red\"\\n    Assistant: \"Thank you for the information. Processing red active wear products for kids.To ensure I have a complete understanding of your needs, I have one more question: Are you looking at high rated products\"\\n    User: \"Yes, I am looking for products rated above 3.\"\\n    Assistant:\"Could you kindly let me know your price range for the product? This will help me find options that fit within your price range while meeting the specified requirements.\"\\n    User: \"my max budget is 1000 rs\"\\n    Assistant: \"{\\'price\\': 1000, \\'colour\\': \\'red\\', \\'avg_rating\\': 3}\"\\n    ####\\n    Start with a short welcome message and encourage the user to share their requirements.\\n    '}]\n"
          ]
        }
      ],
      "source": [
        "debug_conversation = initialize_conversation()\n",
        "print(debug_conversation)"
      ]
    },
    {
      "cell_type": "code",
      "execution_count": 21,
      "metadata": {
        "colab": {
          "base_uri": "https://localhost:8080/"
        },
        "id": "CHPO8cyB_9xV",
        "outputId": "24d510a3-e3e3-4014-efb9-ed587fde988a"
      },
      "outputs": [
        {
          "name": "stdout",
          "output_type": "stream",
          "text": [
            "\n",
            "    You are an intelligent fasion search AI and your goal is to find the best fashion product for a user.\n",
            "    You need to ask relevant questions and understand the user profile by analysing the user's responses.\n",
            "    You final objective is to fill the values for the different keys ('colour','price','avg_rating') in the python dictionary and be confident of the values.\n",
            "    These key value pairs define the user's profile.\n",
            "    The python dictionary looks like this\n",
            "    {'colour': 'values','price': 'values','avg_rating': 'values'}\n",
            "    The value for 'price' and 'avg_rating' should be a numerical value extracted from the user's response.\n",
            "    All the values in the example dictionary are only representative values.\n",
            "    ####\n",
            "    Here are some instructions around the values for the different keys. If you do not follow this, you'll be heavily penalised:\n",
            "    - The value for 'price' should be a numerical value extracted from the user's response.\n",
            "\n",
            "    - 'price' value needs to be greater than or equal to 170 INR. If the user says less than that, please mention that there are no products in that range.\n",
            "    - 'avg_rating' needs to range from 1 to 5.\n",
            "    - 'colour' should be colours.\n",
            "    Strongly ensure that If the 'colour' value is already provided, do not ask further questions on other shades. Go ahead with the provided colour as it is.\n",
            "    - Do not randomly assign values to any of the keys.\n",
            "    - The values need to be inferred from the user's response.\n",
            "    ####\n",
            "\n",
            "    To fill the dictionary, you need to have the following chain of thoughts:\n",
            "    Follow the chain-of-thoughts below and only output the final updated python dictionary for the keys as described in {'price': '_', 'colour': '_', 'avg_rating': '_'}. \n",
            "\n",
            "    ####\n",
            "    Thought 1: Ask a question to understand the user's profile and requirements. \n",
            "\n",
            "    If their primary use for the product is unclear. Ask followup questions to understand their needs.\n",
            "    You are trying to fill the values of the keys {'price','colour','avg_rating'} in the python dictionary by understanding the user requirements.\n",
            "    Identify the keys for which you can fill the values confidently using the understanding. \n",
            "\n",
            "    If the user is not specific about 'avg_rating', you can proceed without it.\n",
            "    Remember the instructions around the values for the different keys.\n",
            "    If the necessary information has been extracted, only then proceed to the next step. \n",
            "\n",
            "    Otherwise, rephrase the question to capture their profile clearly. \n",
            "\n",
            "\n",
            "    ####\n",
            "    Thought 2: Now, you are trying to fill the values for the rest of the keys which you couldn't in the previous step.\n",
            "    Remember the instructions around the values for the different keys.\n",
            "    For 'price' look up, searc for numerical values in the user input that are closely followed/preceded by words like 'INR' or 'rupees' or 'budget' or 'price' or 'rs\n",
            "    Ask questions you might have for all the keys to strengthen your understanding of the user's profile.\n",
            "    If yes, move to the next Thought. If no, ask question on the keys whose values you are unsure of. \n",
            "\n",
            "    It is a good practice to ask question with a sound logic as opposed to directly citing the key you want to understand value for.\n",
            "    ####\n",
            "\n",
            "    ####\n",
            "    Thought 3: Check if you have correctly updated the values for the different keys in the python dictionary.\n",
            "    If you are not confident about any of the values, ask clarifying questions.\n",
            "    ####\n",
            "\n",
            "    ####\n",
            "    Here is a sample conversation between the user and assistant:\n",
            "    User: \"Hi, I am a working women.\"\n",
            "    Assistant: \"Great! As a working women, you likely require a fashion products that are comfortable and also office wear. Let me know if my understanding is correct until now.\"\n",
            "    User: \"Yes\"\n",
            "    Assistant: \"Thank you for providing that information. Are you lookiong for any specific colour\"\n",
            "    User: \"Yes, red\"\n",
            "    Assistant: \"Thank you for the information. Processing red office wear products.To ensure I have a complete understanding of your needs, I have one more question: Are you looking at high rated products\"\n",
            "    User: \"Yes, I am looking for products rated above 3.\"\n",
            "    Assistant:\"Could you kindly let me know your price range for the product? This will help me find options that fit within your price range while meeting the specified requirements.\"\n",
            "    User: \"my max budget is 1000 inr\"\n",
            "    Assistant: \"{'price': 1000, 'colour': 'red', 'avg_rating': 3}\"\n",
            "    ####\n",
            "    ####\n",
            "    Here is a another ample conversation between the user and assistant:\n",
            "    User: \"Hi, I am looking for activewear for my kids.\"\n",
            "    Assistant: \"Great! For kids activewear, you likely require a fashion products that are comfortable and vibrant. Let me know if my understanding is correct until now.\"\n",
            "    User: \"Yes\"\n",
            "    Assistant: \"Thank you for providing that information. Are you looking for any specific colour\"\n",
            "    User: \"Yes, red\"\n",
            "    Assistant: \"Thank you for the information. Processing red active wear products for kids.To ensure I have a complete understanding of your needs, I have one more question: Are you looking at high rated products\"\n",
            "    User: \"Yes, I am looking for products rated above 3.\"\n",
            "    Assistant:\"Could you kindly let me know your price range for the product? This will help me find options that fit within your price range while meeting the specified requirements.\"\n",
            "    User: \"my max budget is 1000 rs\"\n",
            "    Assistant: \"{'price': 1000, 'colour': 'red', 'avg_rating': 3}\"\n",
            "    ####\n",
            "    Start with a short welcome message and encourage the user to share their requirements.\n",
            "    \n"
          ]
        }
      ],
      "source": [
        "# Let's initialise conversation\n",
        "system_message = initialize_conversation()\n",
        "print(system_message[0][\"content\"])"
      ]
    },
    {
      "cell_type": "markdown",
      "metadata": {
        "id": "SbGfVLgeBSII"
      },
      "source": [
        "#### Get chat completion"
      ]
    },
    {
      "cell_type": "code",
      "execution_count": 22,
      "metadata": {
        "id": "ytHPA_IsAET-"
      },
      "outputs": [],
      "source": [
        "# Define a Chat Completions API call\n",
        "# Retry up to 6 times with exponential backoff, starting at 1 second and maxing out at 20 seconds delay\n",
        "@retry(wait=wait_random_exponential(min=1, max=20), stop=stop_after_attempt(6))\n",
        "def get_chat_completions(input, json_format = False):\n",
        "    MODEL = 'gpt-3.5-turbo'\n",
        "\n",
        "    system_message_json_output = \"\"\"<<. Return output in JSON format to the key output.>>\"\"\"\n",
        "\n",
        "    # If the output is required to be in JSON format\n",
        "    if json_format == True:\n",
        "        # Append the input prompt to include JSON response as specified by OpenAI\n",
        "        input[0]['content'] += system_message_json_output\n",
        "\n",
        "        # JSON return type specified\n",
        "        chat_completion_json = openai.chat.completions.create(\n",
        "            model = MODEL,\n",
        "            messages = input,\n",
        "            response_format = { \"type\": \"json_object\"},\n",
        "            seed = 1234)\n",
        "\n",
        "        output = json.loads(chat_completion_json.choices[0].message.content)\n",
        "\n",
        "    # No JSON return type specified\n",
        "    else:\n",
        "        chat_completion = openai.chat.completions.create(\n",
        "            model = MODEL,\n",
        "            messages = input,\n",
        "            seed = 2345)\n",
        "\n",
        "        output = chat_completion.choices[0].message.content\n",
        "\n",
        "    return output"
      ]
    },
    {
      "cell_type": "code",
      "execution_count": 23,
      "metadata": {
        "colab": {
          "base_uri": "https://localhost:8080/",
          "height": 35
        },
        "id": "nL8K2_P6AWXB",
        "outputId": "03ef0202-4d4e-4461-cdb1-88bdf63568d6"
      },
      "outputs": [
        {
          "data": {
            "text/plain": [
              "'The capital of France is Paris.'"
            ]
          },
          "execution_count": 23,
          "metadata": {},
          "output_type": "execute_result"
        }
      ],
      "source": [
        "# Testing the OpenAI functions defined above\n",
        "input_prompt ='What is the capital of France?'\n",
        "messages = [{'role':'user','content':input_prompt}]\n",
        "# system_message_json_output = \"\"\"<<. Return output in JSON format.>>\"\"\"\n",
        "# messages[0]['content']+=system_message_json_output\n",
        "## Get LLM Outputs - normal\n",
        "get_chat_completions(messages) ## Chat Completions API"
      ]
    },
    {
      "cell_type": "markdown",
      "metadata": {
        "id": "ISlaNnxxBYZs"
      },
      "source": [
        "#### Iterate llm response"
      ]
    },
    {
      "cell_type": "code",
      "execution_count": 24,
      "metadata": {
        "id": "2FzdrI__And5"
      },
      "outputs": [],
      "source": [
        "def iterate_llm_response(funct, debug_response, num = 10):\n",
        "    \"\"\"\n",
        "    Calls a specified function repeatedly and prints the results.\n",
        "    This function is designed to test the consistency of a response from a given function.\n",
        "    It calls the function multiple times (default is 10) and prints out the iteration count,\n",
        "    the function's response(s).\n",
        "    Args:\n",
        "        funct (function): The function to be tested. This function should accept a single argument\n",
        "                          and return the response value(s).\n",
        "        debug_response (dict): The input argument to be passed to 'funct' on each call.\n",
        "        num (int, optional): The number of times 'funct' will be called. Defaults to 10.\n",
        "    Returns:\n",
        "        This function only returns the results to the console.\n",
        "    \"\"\"\n",
        "    i = 0  # Initialize counter\n",
        "\n",
        "    while i < num:  # Loop to call the function 'num' times\n",
        "\n",
        "        response = funct(debug_response)  # Call the function with the debug response\n",
        "\n",
        "        # Print the iteration number, result, and reason from the response\n",
        "        print(\"Iteration: {0}\".format(i))\n",
        "        print(response)\n",
        "        print('-' * 50)  # Print a separator line for readability\n",
        "        i += 1  # Increment the counter"
      ]
    },
    {
      "cell_type": "code",
      "execution_count": 25,
      "metadata": {
        "colab": {
          "base_uri": "https://localhost:8080/",
          "height": 52
        },
        "id": "ZX_yCkV9Apxm",
        "outputId": "7ff9e43a-24ed-4616-e437-08f316f9c0f9"
      },
      "outputs": [
        {
          "data": {
            "text/plain": [
              "'Great! For menswear, there are a variety of options available. To assist you better, could you please provide me with some additional details regarding your preferences? Are you looking for any specific colour?'"
            ]
          },
          "metadata": {},
          "output_type": "display_data"
        }
      ],
      "source": [
        "debug_user_input = \"Hi, I am Anand. I am looking for menswear\"\n",
        "debug_conversation.append({\"role\": \"user\", \"content\": debug_user_input})\n",
        "# Getting the response from the Assistant by passing the conversation to the Chat Completions API\n",
        "debug_response_assistant = get_chat_completions(debug_conversation)\n",
        "display(debug_response_assistant)"
      ]
    },
    {
      "cell_type": "code",
      "execution_count": 26,
      "metadata": {
        "id": "yRF8P950Bm6B"
      },
      "outputs": [],
      "source": [
        "debug_conversation.append(({\"role\": \"system\", \"content\": debug_response_assistant}))"
      ]
    },
    {
      "cell_type": "markdown",
      "metadata": {
        "id": "r6xQhes9BcmZ"
      },
      "source": [
        "#### Moderation Check"
      ]
    },
    {
      "cell_type": "code",
      "execution_count": 27,
      "metadata": {
        "id": "gKaRg34eBgkp"
      },
      "outputs": [],
      "source": [
        "# Define a function called moderation_check that takes user_input as a parameter.\n",
        "\n",
        "def moderation_check(user_input):\n",
        "    # Call the OpenAI API to perform moderation on the user's input.\n",
        "    response = openai.moderations.create(input=user_input)\n",
        "\n",
        "    # Extract the moderation result from the API response.\n",
        "    moderation_output = response.results[0].flagged\n",
        "    # Check if the input was flagged by the moderation system.\n",
        "    if response.results[0].flagged == True:\n",
        "        # If flagged, return \"Flagged\"\n",
        "        return \"Flagged\"\n",
        "    else:\n",
        "        # If not flagged, return \"Not Flagged\"\n",
        "        return \"Not Flagged\""
      ]
    },
    {
      "cell_type": "code",
      "execution_count": 28,
      "metadata": {
        "colab": {
          "base_uri": "https://localhost:8080/",
          "height": 35
        },
        "id": "KciXXQe2Bul5",
        "outputId": "585602e0-c386-4dd1-d107-3f5462d81426"
      },
      "outputs": [
        {
          "data": {
            "text/plain": [
              "'Flagged'"
            ]
          },
          "execution_count": 28,
          "metadata": {},
          "output_type": "execute_result"
        }
      ],
      "source": [
        "moderation_check(\"I want to kill them.\")"
      ]
    },
    {
      "cell_type": "markdown",
      "metadata": {
        "id": "xZBEIZocB3mK"
      },
      "source": [
        "#### Intent confimration layer"
      ]
    },
    {
      "cell_type": "code",
      "execution_count": 29,
      "metadata": {
        "id": "-r9_ETFFB8Ri"
      },
      "outputs": [],
      "source": [
        "def intent_confirmation_layer(response_assistant):\n",
        "\n",
        "    delimiter = \"####\"\n",
        "\n",
        "\n",
        "\n",
        "    prompt = f\"\"\"\n",
        "    You are a school girl who likes to dress casually.\n",
        "    You are provided an input. You need to evaluate if the input text has the following keys:\n",
        "    {{\n",
        "    'colour': 'values',\n",
        "    'price':values,\n",
        "    'avg_rating':values\n",
        "    }}\n",
        "\n",
        "    The 'price' and 'avg_rating' key can take only a numerical value.\n",
        "    Set 'colour' value from the colour provided in input.\n",
        "\n",
        "    Next you need to evaluate if the keys have the the values filled correctly.\n",
        "    Only output a one-word string in JSON format at the key 'result' - Yes/No.\n",
        "    Thought 1 - Output a string 'Yes' if all values are correctly filled for all keys, otherwise output 'No'.\n",
        "    Thought 2 - If the answer is No, mention the reason in the key 'reason'.\n",
        "    THought 3 - Think carefully before the answering.\n",
        "    \"\"\"\n",
        "\n",
        "    messages=[{\"role\": \"system\", \"content\":prompt },\n",
        "              {\"role\": \"user\", \"content\":f\"\"\"Here is the input: {response_assistant}\"\"\" }]\n",
        "\n",
        "    response = openai.chat.completions.create(\n",
        "                                    model=\"gpt-3.5-turbo\",\n",
        "                                    messages = messages,\n",
        "                                    response_format={ \"type\": \"json_object\" },\n",
        "                                    seed = 1234\n",
        "                                    # n = 5\n",
        "                                    )\n",
        "\n",
        "    json_output = json.loads(response.choices[0].message.content)\n",
        "\n",
        "    return json_output"
      ]
    },
    {
      "cell_type": "code",
      "execution_count": 30,
      "metadata": {
        "colab": {
          "base_uri": "https://localhost:8080/",
          "height": 34
        },
        "id": "TcGaSz5KBBff",
        "outputId": "e0099641-bfaf-42aa-c932-ee8c29a0e5c8"
      },
      "outputs": [
        {
          "data": {
            "text/plain": [
              "{'result': 'Yes'}"
            ]
          },
          "metadata": {},
          "output_type": "display_data"
        }
      ],
      "source": [
        "debug_response_assistant='Yellow dress at 3 rated and within 500 INR'\n",
        "debug_confirmation = intent_confirmation_layer(debug_response_assistant)\n",
        "display(debug_confirmation)"
      ]
    },
    {
      "cell_type": "code",
      "execution_count": 31,
      "metadata": {
        "id": "SXYZ3BYFC7U5"
      },
      "outputs": [],
      "source": [
        "#Let's add the above assistant response to the debug_conversation.\n",
        "debug_conversation.append({\"role\": \"assistant\", \"content\": debug_response_assistant})"
      ]
    },
    {
      "cell_type": "markdown",
      "metadata": {
        "id": "-9OIjzjFDQRQ"
      },
      "source": [
        "#### check if the Dictionary is present"
      ]
    },
    {
      "cell_type": "code",
      "execution_count": 32,
      "metadata": {
        "id": "oBkqAZ3LDVvg"
      },
      "outputs": [],
      "source": [
        "def dictionary_present(response):\n",
        "    delimiter = \"####\"\n",
        "\n",
        "    user_req = {'colour': 'green',\n",
        "                'price': 300,\n",
        "                'avg_rating': 3}\n",
        "\n",
        "    prompt = f\"\"\"You are a python expert. You are provided an input.\n",
        "            You have to check if there is a python dictionary present in the string.\n",
        "            It will have the following format {user_req}.\n",
        "            Your task is to just extract the relevant values from the input and return only the python dictionary in JSON format.\n",
        "            The output should match the format as {user_req}.\n",
        "\n",
        "            {delimiter}\n",
        "            Make sure that the value of price is  present in the user input. ###\n",
        "            The output should contain the exact keys and values as present in the input.\n",
        "            If 'avg_rating' value is not given, set it to numerical value 1\n",
        "            Ensure the keys and values are in the given format:\n",
        "            {{\n",
        "            'colour': 'colour options ',\n",
        "            'price':'numerical value',\n",
        "            'avg_rating':'numerical value ranging from 1 to 5'\n",
        "            }}\n",
        "            Here are some sample input output pairs for better understanding:\n",
        "            {delimiter}\n",
        "            input 1: - colour: red  - price: 500 - avg_rating: -\n",
        "            output 1: {{'colour': 'red', 'price': 300, 'avg_rating': 1}}\n",
        "\n",
        "            input 1: - colour: yellow  - price: 1500 - avg_rating: 4\n",
        "            output 1: {{'colour': 'yellow', 'price': 1500, 'avg_rating': 3}}\n",
        "\n",
        "            input 1: - colour: cyan  - price: 4000 - avg_rating: 5\n",
        "            output 1: {{'colour': 'cyan', 'price': 4000, 'avg_rating': 3}}\n",
        "            {delimiter}\n",
        "            \"\"\"\n",
        "    messages = [{\"role\": \"system\", \"content\":prompt },\n",
        "                {\"role\": \"user\", \"content\":f\"\"\"Here is the user input: {response}\"\"\" }]\n",
        "\n",
        "    confirmation = get_chat_completions(messages, json_format = True)\n",
        "\n",
        "    return confirmation"
      ]
    },
    {
      "cell_type": "code",
      "execution_count": 33,
      "metadata": {
        "colab": {
          "base_uri": "https://localhost:8080/",
          "height": 34
        },
        "id": "DcOlbNFAErty",
        "outputId": "d015fed6-1eb4-4a1b-da4e-a0c1257a2350"
      },
      "outputs": [
        {
          "data": {
            "text/plain": [
              "{'colour': 'white', 'price': 200, 'avg_rating': 1}"
            ]
          },
          "metadata": {},
          "output_type": "display_data"
        }
      ],
      "source": [
        "debug_response_assistant_n = \"\"\"\n",
        "{'colour':'white',\n",
        " 'price':200,\n",
        " 'avg_rating':'-'}\n",
        "\"\"\"\n",
        "response_dict_n = dictionary_present(debug_response_assistant_n)\n",
        "display(response_dict_n)"
      ]
    },
    {
      "cell_type": "code",
      "execution_count": 34,
      "metadata": {
        "colab": {
          "base_uri": "https://localhost:8080/"
        },
        "id": "CcKtLf4CFVww",
        "outputId": "2e6dece2-7318-40b2-dcbe-7753dab6b6f6"
      },
      "outputs": [
        {
          "name": "stdout",
          "output_type": "stream",
          "text": [
            "{'colour': 'white', 'price': 200, 'avg_rating': 1}\n"
          ]
        }
      ],
      "source": [
        "debug_conversation = initialize_conversation()\n",
        "debug_user_input = \"Hi, I am looking for schoolwear\"\n",
        "debug_moderation = moderation_check(debug_user_input)\n",
        "debug_conversation.append({\"role\": \"user\", \"content\": debug_user_input})\n",
        "debug_response_assistant = get_chat_completions(debug_conversation)\n",
        "debug_moderation = moderation_check(debug_response_assistant)\n",
        "debug_conversation.append({\"role\": \"assistant\", \"content\": debug_response_assistant})\n",
        "debug_confirmation = intent_confirmation_layer(debug_response_assistant)\n",
        "# After a series of conversation...\n",
        "response_dict_n = dictionary_present(debug_response_assistant_n)\n",
        "print(response_dict_n)"
      ]
    },
    {
      "cell_type": "markdown",
      "metadata": {
        "id": "ZnCPVWQnFi-A"
      },
      "source": [
        "#### Implement product mapping & information extraction layers"
      ]
    },
    {
      "cell_type": "code",
      "execution_count": 35,
      "metadata": {
        "id": "ASAPFgAUFo7g"
      },
      "outputs": [],
      "source": [
        "## Not used anywhere, we might use this if we want to extract specific information from dataframe columns\n",
        "def product_map_layer(product_description):\n",
        "    delimiter = \"#####\"\n",
        "\n",
        "    prod_spec = {\n",
        "        \"colour\":\"(colour of the product)\",\n",
        "        \"price\":\"(price range of the product)\",\n",
        "        \"avg_rating\":\"(avg_rating values from 1 to 5)\"\n",
        "    }\n",
        "\n",
        "\n",
        "\n",
        "    prompt=f\"\"\"\n",
        "    You are a product Specifications Classifier whose job is to extract the key features of products and classify them as per their requirements.\n",
        "    To analyze each product, perform the following steps:\n",
        "    Step 1: Extract the products primary features from the description {product_description}\n",
        "    Step 2: Store the extracted features in {prod_spec} \\\n",
        "    Step 3: Classify each of the items in {prod_spec} into {values} based on the following rules: \\\n",
        "    {delimiter}\n",
        "    colour:\n",
        "    - map the colour to the user input ,\\n\n",
        "    - if exact colour is not available match to the nearest colour ,\\n\n",
        "\n",
        "\n",
        "    avg_rating:\n",
        "    - 1: <<<very low rated products >>> , \\n\n",
        "    - 2: <<<Low rated products >>> , \\n\n",
        "    - 3: <<< average rated products>>> \\n\n",
        "    - 4: <<< above average/high rated products>>> \\n\n",
        "    - 5: <<< Best/high rated products>>> \\n\n",
        "\n",
        "    Price:\n",
        "    - ranges from 200 INR \\n\n",
        "\n",
        "\n",
        "    {delimiter}\n",
        "\n",
        "    {delimiter}\n",
        "    Here is input output pair for few-shot learning:\n",
        "    input 1: \"Black printed kurta priced at 3500 rated high\"\n",
        "    output 1: {{'Colour': 'Black','price':'3500','avg_rating':'4'}}\n",
        "\n",
        "    {delimiter}\n",
        "    ### Strictly don't keep any other text in the values of the JSON dictionary other than low or medium or high ###\n",
        "    \"\"\"\n",
        "    input = f\"\"\"Follow the above instructions step-by-step and output the dictionary in JSON format {prod_spec} for the following product {product_description}.\"\"\"\n",
        "    #see that we are using the Completion endpoint and not the Chatcompletion endpoint\n",
        "    messages=[{\"role\": \"system\", \"content\":prompt },{\"role\": \"user\",\"content\":input}]\n",
        "\n",
        "    response = get_chat_completions(messages, json_format = True)\n",
        "\n",
        "    return response"
      ]
    },
    {
      "cell_type": "code",
      "execution_count": 36,
      "metadata": {
        "colab": {
          "base_uri": "https://localhost:8080/",
          "height": 712
        },
        "id": "fbjQkoihJfrA",
        "outputId": "113d75f7-eeeb-4bd2-861b-20393f4fa94a"
      },
      "outputs": [
        {
          "data": {
            "text/html": [
              "<div>\n",
              "<style scoped>\n",
              "    .dataframe tbody tr th:only-of-type {\n",
              "        vertical-align: middle;\n",
              "    }\n",
              "\n",
              "    .dataframe tbody tr th {\n",
              "        vertical-align: top;\n",
              "    }\n",
              "\n",
              "    .dataframe thead th {\n",
              "        text-align: right;\n",
              "    }\n",
              "</style>\n",
              "<table border=\"1\" class=\"dataframe\">\n",
              "  <thead>\n",
              "    <tr style=\"text-align: right;\">\n",
              "      <th></th>\n",
              "      <th>Unnamed: 0</th>\n",
              "      <th>p_id</th>\n",
              "      <th>name</th>\n",
              "      <th>price</th>\n",
              "      <th>colour</th>\n",
              "      <th>brand</th>\n",
              "      <th>img</th>\n",
              "      <th>ratingCount</th>\n",
              "      <th>avg_rating</th>\n",
              "      <th>description</th>\n",
              "      <th>p_attributes</th>\n",
              "      <th>Gender</th>\n",
              "      <th>product_feature</th>\n",
              "    </tr>\n",
              "  </thead>\n",
              "  <tbody>\n",
              "    <tr>\n",
              "      <th>0</th>\n",
              "      <td>0</td>\n",
              "      <td>17048614.0</td>\n",
              "      <td>Khushal K Women Black Ethnic Motifs Printed Ku...</td>\n",
              "      <td>5099.0</td>\n",
              "      <td>Black</td>\n",
              "      <td>Khushal K</td>\n",
              "      <td>http://assets.myntassets.com/assets/images/170...</td>\n",
              "      <td>4522.0</td>\n",
              "      <td>4.418399</td>\n",
              "      <td>Black printed Kurta with Palazzos with dupatta...</td>\n",
              "      <td>{'Add-Ons': 'NA', 'Body Shape ID': '443,333,32...</td>\n",
              "      <td>women</td>\n",
              "      <td>5099.0_Black_4.4183989385227775_{'Add-Ons': 'N...</td>\n",
              "    </tr>\n",
              "    <tr>\n",
              "      <th>1</th>\n",
              "      <td>1</td>\n",
              "      <td>16524740.0</td>\n",
              "      <td>InWeave Women Orange Solid Kurta with Palazzos...</td>\n",
              "      <td>5899.0</td>\n",
              "      <td>Orange</td>\n",
              "      <td>InWeave</td>\n",
              "      <td>http://assets.myntassets.com/assets/images/165...</td>\n",
              "      <td>1081.0</td>\n",
              "      <td>4.119334</td>\n",
              "      <td>Orange solid Kurta with Palazzos with dupatta&lt;...</td>\n",
              "      <td>{'Add-Ons': 'NA', 'Body Shape ID': '443,333,32...</td>\n",
              "      <td>women</td>\n",
              "      <td>5899.0_Orange_4.119333950046253_{'Add-Ons': 'N...</td>\n",
              "    </tr>\n",
              "    <tr>\n",
              "      <th>2</th>\n",
              "      <td>2</td>\n",
              "      <td>16331376.0</td>\n",
              "      <td>Anubhutee Women Navy Blue Ethnic Motifs Embroi...</td>\n",
              "      <td>4899.0</td>\n",
              "      <td>Navy Blue</td>\n",
              "      <td>Anubhutee</td>\n",
              "      <td>http://assets.myntassets.com/assets/images/163...</td>\n",
              "      <td>1752.0</td>\n",
              "      <td>4.161530</td>\n",
              "      <td>Navy blue embroidered Kurta with Trousers with...</td>\n",
              "      <td>{'Add-Ons': 'NA', 'Body Shape ID': '333,424', ...</td>\n",
              "      <td>women</td>\n",
              "      <td>4899.0_Navy Blue_4.161529680365297_{'Add-Ons':...</td>\n",
              "    </tr>\n",
              "    <tr>\n",
              "      <th>3</th>\n",
              "      <td>3</td>\n",
              "      <td>14709966.0</td>\n",
              "      <td>Nayo Women Red Floral Printed Kurta With Trous...</td>\n",
              "      <td>3699.0</td>\n",
              "      <td>Red</td>\n",
              "      <td>Nayo</td>\n",
              "      <td>http://assets.myntassets.com/assets/images/147...</td>\n",
              "      <td>4113.0</td>\n",
              "      <td>4.088986</td>\n",
              "      <td>Red printed kurta with trouser and dupatta&lt;br&gt;...</td>\n",
              "      <td>{'Add-Ons': 'NA', 'Body Shape ID': '333,424', ...</td>\n",
              "      <td>women</td>\n",
              "      <td>3699.0_Red_4.088986141502553_{'Add-Ons': 'NA',...</td>\n",
              "    </tr>\n",
              "    <tr>\n",
              "      <th>4</th>\n",
              "      <td>4</td>\n",
              "      <td>11056154.0</td>\n",
              "      <td>AHIKA Women Black &amp; Green Printed Straight Kurta</td>\n",
              "      <td>1350.0</td>\n",
              "      <td>Black</td>\n",
              "      <td>AHIKA</td>\n",
              "      <td>http://assets.myntassets.com/assets/images/110...</td>\n",
              "      <td>21274.0</td>\n",
              "      <td>3.978377</td>\n",
              "      <td>Black and green printed straight kurta, has a ...</td>\n",
              "      <td>{'Body Shape ID': '424', 'Body or Garment Size...</td>\n",
              "      <td>women</td>\n",
              "      <td>1350.0_Black_3.978377362038169_{'Body Shape ID...</td>\n",
              "    </tr>\n",
              "  </tbody>\n",
              "</table>\n",
              "</div>"
            ],
            "text/plain": [
              "   Unnamed: 0        p_id                                               name   price     colour  \\\n",
              "0           0  17048614.0  Khushal K Women Black Ethnic Motifs Printed Ku...  5099.0      Black   \n",
              "1           1  16524740.0  InWeave Women Orange Solid Kurta with Palazzos...  5899.0     Orange   \n",
              "2           2  16331376.0  Anubhutee Women Navy Blue Ethnic Motifs Embroi...  4899.0  Navy Blue   \n",
              "3           3  14709966.0  Nayo Women Red Floral Printed Kurta With Trous...  3699.0        Red   \n",
              "4           4  11056154.0   AHIKA Women Black & Green Printed Straight Kurta  1350.0      Black   \n",
              "\n",
              "       brand                                                img  ratingCount  avg_rating  \\\n",
              "0  Khushal K  http://assets.myntassets.com/assets/images/170...       4522.0    4.418399   \n",
              "1    InWeave  http://assets.myntassets.com/assets/images/165...       1081.0    4.119334   \n",
              "2  Anubhutee  http://assets.myntassets.com/assets/images/163...       1752.0    4.161530   \n",
              "3       Nayo  http://assets.myntassets.com/assets/images/147...       4113.0    4.088986   \n",
              "4      AHIKA  http://assets.myntassets.com/assets/images/110...      21274.0    3.978377   \n",
              "\n",
              "                                         description  \\\n",
              "0  Black printed Kurta with Palazzos with dupatta...   \n",
              "1  Orange solid Kurta with Palazzos with dupatta<...   \n",
              "2  Navy blue embroidered Kurta with Trousers with...   \n",
              "3  Red printed kurta with trouser and dupatta<br>...   \n",
              "4  Black and green printed straight kurta, has a ...   \n",
              "\n",
              "                                        p_attributes Gender  \\\n",
              "0  {'Add-Ons': 'NA', 'Body Shape ID': '443,333,32...  women   \n",
              "1  {'Add-Ons': 'NA', 'Body Shape ID': '443,333,32...  women   \n",
              "2  {'Add-Ons': 'NA', 'Body Shape ID': '333,424', ...  women   \n",
              "3  {'Add-Ons': 'NA', 'Body Shape ID': '333,424', ...  women   \n",
              "4  {'Body Shape ID': '424', 'Body or Garment Size...  women   \n",
              "\n",
              "                                     product_feature  \n",
              "0  5099.0_Black_4.4183989385227775_{'Add-Ons': 'N...  \n",
              "1  5899.0_Orange_4.119333950046253_{'Add-Ons': 'N...  \n",
              "2  4899.0_Navy Blue_4.161529680365297_{'Add-Ons':...  \n",
              "3  3699.0_Red_4.088986141502553_{'Add-Ons': 'NA',...  \n",
              "4  1350.0_Black_3.978377362038169_{'Body Shape ID...  "
            ]
          },
          "execution_count": 36,
          "metadata": {},
          "output_type": "execute_result"
        }
      ],
      "source": [
        "cols=['price','colour','avg_rating','p_attributes']\n",
        "df['product_feature'] = df[cols].apply(lambda row: '_'.join(row.values.astype(str)), axis=1)\n",
        "df.head()"
      ]
    },
    {
      "cell_type": "code",
      "execution_count": 37,
      "metadata": {
        "id": "p8VBfP5bKPXg"
      },
      "outputs": [],
      "source": [
        "import pandas as pd  # Importing the pandas library for data manipulation\n",
        "import json\n",
        "def compare_products_with_user(user_req_string):\n",
        "    product_df=df\n",
        "\n",
        "    user_requirements = response_dict_n\n",
        "    mappings = {'low': 0, 'medium': 1, 'high': 2}\n",
        "\n",
        "    \n",
        "    # Since the function parameter already seems to be a string, we'll use it directly instead of extracting from a dictionary\n",
        "\n",
        "    # Extracting the price value from user_requirements and converting it to an integer\n",
        "    price = user_requirements.get('price', '0')\n",
        "    avg_rating=user_requirements.get('avg_rating', '0')\n",
        "    colour=user_requirements.get('colour', '0')\n",
        "    \n",
        "    # budget\n",
        "    # # Creating a copy of the DataFrame and filtering products based on the budget\n",
        "    filtered_products = product_df.copy()\n",
        "    #filtered_products['price'] = filtered_products['price'].str.replace(',', '').astype(int)\n",
        "    filtered_products = filtered_products.loc[(filtered_products['price'] <= price) & (filtered_products['avg_rating']>=avg_rating) ].copy()\n",
        "\n",
        "\n",
        "    # # # Creating a new column 'Score' in the filtered DataFrame and initializing it to 0\n",
        "    filtered_products['Score'] = 0\n",
        "\n",
        "    # # # Iterating over each product in the filtered DataFrame to calculate scores based on user requirements\n",
        "    for index, row in filtered_products.iterrows():\n",
        "        user_product_match_str = row['product_feature']\n",
        "        product_values = user_product_match_str\n",
        "        product_values = dictionary_present(user_product_match_str)\n",
        "        score = 0\n",
        "\n",
        "    #     # Comparing user requirements with product features and updating scores\n",
        "        for key, user_value in user_requirements.items():\n",
        "            # if key.lower() == 'budget':\n",
        "            if key == 'price':\n",
        "                continue  # Skipping budget comparison\n",
        "            product_value = product_values.get(key, None)\n",
        "            # print(key, product_value)\n",
        "            product_mapping = mappings.get(product_value, -1)\n",
        "            user_mapping = mappings.get(user_value, -1)\n",
        "            if product_mapping >= user_mapping:\n",
        "                score += 1  # Incrementing score if product value meets or exceeds user value\n",
        "\n",
        "        filtered_products.loc[index, 'Score'] = score  # Updating the 'Score' column in the DataFrame\n",
        "\n",
        "    # Sorting products by score in descending order and selecting the top 3 products\n",
        "    top_products = filtered_products.drop('product_feature', axis=1)\n",
        "    top_products = top_products.sort_values('Score', ascending=False).head(3)\n",
        "    top_products_json = top_products.to_json(orient='records')  # Converting the top products DataFrame to JSON format\n",
        "\n",
        "    # top_products\n",
        "    return top_products_json"
      ]
    },
    {
      "cell_type": "code",
      "execution_count": 38,
      "metadata": {
        "colab": {
          "base_uri": "https://localhost:8080/",
          "height": 191
        },
        "id": "PhfJbQm9R1Jw",
        "outputId": "14b7b047-7682-4275-e6ee-b138db5de9c3"
      },
      "outputs": [
        {
          "data": {
            "text/plain": [
              "'[{\"Unnamed: 0\":220,\"p_id\":14432282.0,\"name\":\"max White Regular Top\",\"price\":199.0,\"colour\":\"White\",\"brand\":\"max\",\"img\":\"http:\\\\/\\\\/assets.myntassets.com\\\\/assets\\\\/images\\\\/productimage\\\\/2021\\\\/6\\\\/1\\\\/d5137ad3-aa44-437b-bfaa-8076c05a5b2d1622539364476-1.jpg\",\"ratingCount\":308.0,\"avg_rating\":4.4642857143,\"description\":\"<ul> <li> White regular top <\\\\/li> <li> Solid <\\\\/li> <li> Shoulder straps,  regular,  sleeves <\\\\/li> <li> Knitted <\\\\/li> <\\\\/ul>Cotton <br> Hand washThe model (height 5\\'8) is wearing a size S\",\"p_attributes\":\"{\\'Body Shape ID\\': \\'443,333,324,424\\', \\'Body or Garment Size\\': \\'Garment Measurements in\\', \\'Center Front Open\\': \\'No\\', \\'Character\\': \\'NA\\', \\'Closure\\': \\'NA\\', \\'Fabric\\': \\'Pure Cotton\\', \\'Fabric Type\\': \\'NA\\', \\'Length\\': \\'Regular\\', \\'Lining\\': \\'NA\\', \\'Main Trend\\': \\'New Basics\\', \\'Multipack Set\\': \\'NA\\', \\'Neck\\': \\'Shoulder Straps\\', \\'Occasion\\': \\'Casual\\', \\'Pattern\\': \\'Solid\\', \\'Print or Pattern Type\\': \\'Solid\\', \\'Sleeve Length\\': \\'Sleeveless\\', \\'Sleeve Styling\\': \\'Shoulder Straps\\', \\'Surface Styling\\': \\'NA\\', \\'Sustainable\\': \\'Regular\\', \\'Transparency\\': \\'Opaque\\', \\'Type\\': \\'Regular\\', \\'Wash Care\\': \\'Hand Wash\\', \\'Weave Type\\': \\'Knitted\\', \\'taxMaterial\\': \\'NA\\'}\",\"Gender\":null,\"Score\":2},{\"Unnamed: 0\":518,\"p_id\":14432274.0,\"name\":\"max Cream Regular Top\",\"price\":199.0,\"colour\":\"Cream\",\"brand\":\"max\",\"img\":\"http:\\\\/\\\\/assets.myntassets.com\\\\/assets\\\\/images\\\\/productimage\\\\/2021\\\\/6\\\\/1\\\\/7295eb99-5075-484b-ba94-455b97b839771622540494899-1.jpg\",\"ratingCount\":262.0,\"avg_rating\":4.5763358779,\"description\":\"<ul><li>Cream regular top<\\\\/li><li>Solid<\\\\/li><li>Shoulder straps, sleeveless<\\\\/li><li>Knitted<\\\\/li><\\\\/ul>95% Cotton and 5% Spandex<br>Hand washThe model (height 5\\'8) is wearing a size S\",\"p_attributes\":\"{\\'Body Shape ID\\': \\'443,333,324,424\\', \\'Body or Garment Size\\': \\'Garment Measurements in\\', \\'Center Front Open\\': \\'No\\', \\'Character\\': \\'NA\\', \\'Closure\\': \\'NA\\', \\'Fabric\\': \\'Pure Cotton\\', \\'Fabric Type\\': \\'NA\\', \\'Length\\': \\'Regular\\', \\'Lining\\': \\'NA\\', \\'Main Trend\\': \\'New Basics\\', \\'Multipack Set\\': \\'NA\\', \\'Neck\\': \\'Shoulder Straps\\', \\'Occasion\\': \\'Casual\\', \\'Pattern\\': \\'Solid\\', \\'Print or Pattern Type\\': \\'Solid\\', \\'Sleeve Length\\': \\'Sleeveless\\', \\'Sleeve Styling\\': \\'Shoulder Straps\\', \\'Surface Styling\\': \\'NA\\', \\'Sustainable\\': \\'Regular\\', \\'Transparency\\': \\'Opaque\\', \\'Type\\': \\'Regular\\', \\'Wash Care\\': \\'Hand Wash\\', \\'Weave Type\\': \\'Knitted\\', \\'taxMaterial\\': \\'NA\\'}\",\"Gender\":null,\"Score\":2}]'"
            ]
          },
          "metadata": {},
          "output_type": "display_data"
        }
      ],
      "source": [
        "top_3_products = compare_products_with_user(response_dict_n)\n",
        "\n",
        "display(top_3_products)"
      ]
    },
    {
      "cell_type": "code",
      "execution_count": 39,
      "metadata": {
        "colab": {
          "base_uri": "https://localhost:8080/"
        },
        "id": "zXg4oOtlbb2n",
        "outputId": "9706484a-a11f-496e-c4ce-9c1a5401f853"
      },
      "outputs": [
        {
          "data": {
            "text/plain": [
              "[{'Unnamed: 0': 220,\n",
              "  'p_id': 14432282.0,\n",
              "  'name': 'max White Regular Top',\n",
              "  'price': 199.0,\n",
              "  'colour': 'White',\n",
              "  'brand': 'max',\n",
              "  'img': 'http://assets.myntassets.com/assets/images/productimage/2021/6/1/d5137ad3-aa44-437b-bfaa-8076c05a5b2d1622539364476-1.jpg',\n",
              "  'ratingCount': 308.0,\n",
              "  'avg_rating': 4.4642857143,\n",
              "  'description': \"<ul> <li> White regular top </li> <li> Solid </li> <li> Shoulder straps,  regular,  sleeves </li> <li> Knitted </li> </ul>Cotton <br> Hand washThe model (height 5'8) is wearing a size S\",\n",
              "  'p_attributes': \"{'Body Shape ID': '443,333,324,424', 'Body or Garment Size': 'Garment Measurements in', 'Center Front Open': 'No', 'Character': 'NA', 'Closure': 'NA', 'Fabric': 'Pure Cotton', 'Fabric Type': 'NA', 'Length': 'Regular', 'Lining': 'NA', 'Main Trend': 'New Basics', 'Multipack Set': 'NA', 'Neck': 'Shoulder Straps', 'Occasion': 'Casual', 'Pattern': 'Solid', 'Print or Pattern Type': 'Solid', 'Sleeve Length': 'Sleeveless', 'Sleeve Styling': 'Shoulder Straps', 'Surface Styling': 'NA', 'Sustainable': 'Regular', 'Transparency': 'Opaque', 'Type': 'Regular', 'Wash Care': 'Hand Wash', 'Weave Type': 'Knitted', 'taxMaterial': 'NA'}\",\n",
              "  'Gender': None,\n",
              "  'Score': 2},\n",
              " {'Unnamed: 0': 518,\n",
              "  'p_id': 14432274.0,\n",
              "  'name': 'max Cream Regular Top',\n",
              "  'price': 199.0,\n",
              "  'colour': 'Cream',\n",
              "  'brand': 'max',\n",
              "  'img': 'http://assets.myntassets.com/assets/images/productimage/2021/6/1/7295eb99-5075-484b-ba94-455b97b839771622540494899-1.jpg',\n",
              "  'ratingCount': 262.0,\n",
              "  'avg_rating': 4.5763358779,\n",
              "  'description': \"<ul><li>Cream regular top</li><li>Solid</li><li>Shoulder straps, sleeveless</li><li>Knitted</li></ul>95% Cotton and 5% Spandex<br>Hand washThe model (height 5'8) is wearing a size S\",\n",
              "  'p_attributes': \"{'Body Shape ID': '443,333,324,424', 'Body or Garment Size': 'Garment Measurements in', 'Center Front Open': 'No', 'Character': 'NA', 'Closure': 'NA', 'Fabric': 'Pure Cotton', 'Fabric Type': 'NA', 'Length': 'Regular', 'Lining': 'NA', 'Main Trend': 'New Basics', 'Multipack Set': 'NA', 'Neck': 'Shoulder Straps', 'Occasion': 'Casual', 'Pattern': 'Solid', 'Print or Pattern Type': 'Solid', 'Sleeve Length': 'Sleeveless', 'Sleeve Styling': 'Shoulder Straps', 'Surface Styling': 'NA', 'Sustainable': 'Regular', 'Transparency': 'Opaque', 'Type': 'Regular', 'Wash Care': 'Hand Wash', 'Weave Type': 'Knitted', 'taxMaterial': 'NA'}\",\n",
              "  'Gender': None,\n",
              "  'Score': 2}]"
            ]
          },
          "execution_count": 39,
          "metadata": {},
          "output_type": "execute_result"
        }
      ],
      "source": [
        "# Get output in JSON Format\n",
        "top_3_products_json = json.loads(top_3_products)\n",
        "# type(top_3_products_json)\n",
        "top_3_products_json"
      ]
    },
    {
      "cell_type": "markdown",
      "metadata": {
        "id": "VgUp61yeffsb"
      },
      "source": [
        "#### Product validation layer"
      ]
    },
    {
      "cell_type": "code",
      "execution_count": 40,
      "metadata": {
        "id": "8rvct94EflXX"
      },
      "outputs": [],
      "source": [
        "def recommendation_validation(product_recommendation):\n",
        "    data = json.loads(product_recommendation)\n",
        "    data1 = []\n",
        "    for i in range(len(data)):\n",
        "        if data[i]['Score'] >= 2:\n",
        "            data1.append(data[i])\n",
        "\n",
        "    return data1"
      ]
    },
    {
      "cell_type": "code",
      "execution_count": 41,
      "metadata": {
        "colab": {
          "base_uri": "https://localhost:8080/",
          "height": 764
        },
        "id": "UbRO26TlgC5p",
        "outputId": "464834bd-8f20-4760-ffc6-9e3c21019d0a"
      },
      "outputs": [
        {
          "data": {
            "text/plain": [
              "[{'Unnamed: 0': 220,\n",
              "  'p_id': 14432282.0,\n",
              "  'name': 'max White Regular Top',\n",
              "  'price': 199.0,\n",
              "  'colour': 'White',\n",
              "  'brand': 'max',\n",
              "  'img': 'http://assets.myntassets.com/assets/images/productimage/2021/6/1/d5137ad3-aa44-437b-bfaa-8076c05a5b2d1622539364476-1.jpg',\n",
              "  'ratingCount': 308.0,\n",
              "  'avg_rating': 4.4642857143,\n",
              "  'description': \"<ul> <li> White regular top </li> <li> Solid </li> <li> Shoulder straps,  regular,  sleeves </li> <li> Knitted </li> </ul>Cotton <br> Hand washThe model (height 5'8) is wearing a size S\",\n",
              "  'p_attributes': \"{'Body Shape ID': '443,333,324,424', 'Body or Garment Size': 'Garment Measurements in', 'Center Front Open': 'No', 'Character': 'NA', 'Closure': 'NA', 'Fabric': 'Pure Cotton', 'Fabric Type': 'NA', 'Length': 'Regular', 'Lining': 'NA', 'Main Trend': 'New Basics', 'Multipack Set': 'NA', 'Neck': 'Shoulder Straps', 'Occasion': 'Casual', 'Pattern': 'Solid', 'Print or Pattern Type': 'Solid', 'Sleeve Length': 'Sleeveless', 'Sleeve Styling': 'Shoulder Straps', 'Surface Styling': 'NA', 'Sustainable': 'Regular', 'Transparency': 'Opaque', 'Type': 'Regular', 'Wash Care': 'Hand Wash', 'Weave Type': 'Knitted', 'taxMaterial': 'NA'}\",\n",
              "  'Gender': None,\n",
              "  'Score': 2},\n",
              " {'Unnamed: 0': 518,\n",
              "  'p_id': 14432274.0,\n",
              "  'name': 'max Cream Regular Top',\n",
              "  'price': 199.0,\n",
              "  'colour': 'Cream',\n",
              "  'brand': 'max',\n",
              "  'img': 'http://assets.myntassets.com/assets/images/productimage/2021/6/1/7295eb99-5075-484b-ba94-455b97b839771622540494899-1.jpg',\n",
              "  'ratingCount': 262.0,\n",
              "  'avg_rating': 4.5763358779,\n",
              "  'description': \"<ul><li>Cream regular top</li><li>Solid</li><li>Shoulder straps, sleeveless</li><li>Knitted</li></ul>95% Cotton and 5% Spandex<br>Hand washThe model (height 5'8) is wearing a size S\",\n",
              "  'p_attributes': \"{'Body Shape ID': '443,333,324,424', 'Body or Garment Size': 'Garment Measurements in', 'Center Front Open': 'No', 'Character': 'NA', 'Closure': 'NA', 'Fabric': 'Pure Cotton', 'Fabric Type': 'NA', 'Length': 'Regular', 'Lining': 'NA', 'Main Trend': 'New Basics', 'Multipack Set': 'NA', 'Neck': 'Shoulder Straps', 'Occasion': 'Casual', 'Pattern': 'Solid', 'Print or Pattern Type': 'Solid', 'Sleeve Length': 'Sleeveless', 'Sleeve Styling': 'Shoulder Straps', 'Surface Styling': 'NA', 'Sustainable': 'Regular', 'Transparency': 'Opaque', 'Type': 'Regular', 'Wash Care': 'Hand Wash', 'Weave Type': 'Knitted', 'taxMaterial': 'NA'}\",\n",
              "  'Gender': None,\n",
              "  'Score': 2}]"
            ]
          },
          "metadata": {},
          "output_type": "display_data"
        },
        {
          "data": {
            "text/plain": [
              "'\\n'"
            ]
          },
          "metadata": {},
          "output_type": "display_data"
        }
      ],
      "source": [
        "validated_data = recommendation_validation(top_3_products)\n",
        "display(validated_data,'\\n')"
      ]
    },
    {
      "cell_type": "markdown",
      "metadata": {
        "id": "ma_WDzb2gY-R"
      },
      "source": [
        "#### Product recommendation layer"
      ]
    },
    {
      "cell_type": "code",
      "execution_count": 42,
      "metadata": {
        "id": "vPj9kkxIgjjY"
      },
      "outputs": [],
      "source": [
        "def initialize_conv_reco(products):\n",
        "    system_message = f\"\"\"\n",
        "    You are an intelligent Fashion search AI and you are tasked with the objective to \\\n",
        "    suggest products from the catalogue based on the user requirements \\\n",
        "    You should keep the user profile in mind while answering the questions.\\\n",
        "\n",
        "    Start with a brief summary of each product in the following format, in decreasing order of price of products:\n",
        "    1. <Product Name> : <Major specifications of the Product>, <Price in Rs>\n",
        "    2. <Product Name> : <Major specifications of the Product>, <Price in Rs>\n",
        "\n",
        "    \"\"\"\n",
        "    user_message = f\"\"\" These are the user's products: {products}\"\"\"\n",
        "    conversation = [{\"role\": \"system\", \"content\": system_message },\n",
        "                    {\"role\":\"user\",\"content\":user_message}]\n",
        "    # conversation_final = conversation[0]['content']\n",
        "    return conversation"
      ]
    },
    {
      "cell_type": "code",
      "execution_count": 43,
      "metadata": {
        "colab": {
          "base_uri": "https://localhost:8080/"
        },
        "id": "NEKxekROg2PO",
        "outputId": "7e21a861-1fb2-48be-f08e-d5e09c415247"
      },
      "outputs": [
        {
          "data": {
            "text/plain": [
              "[{'role': 'system',\n",
              "  'content': '\\n    You are an intelligent Fashion search AI and you are tasked with the objective to     suggest products from the catalogue based on the user requirements     You should keep the user profile in mind while answering the questions.\\n    Start with a brief summary of each product in the following format, in decreasing order of price of products:\\n    1. <Product Name> : <Major specifications of the Product>, <Price in Rs>\\n    2. <Product Name> : <Major specifications of the Product>, <Price in Rs>\\n\\n    '},\n",
              " {'role': 'user',\n",
              "  'content': ' These are the user\\'s products: [{\"Unnamed: 0\":220,\"p_id\":14432282.0,\"name\":\"max White Regular Top\",\"price\":199.0,\"colour\":\"White\",\"brand\":\"max\",\"img\":\"http:\\\\/\\\\/assets.myntassets.com\\\\/assets\\\\/images\\\\/productimage\\\\/2021\\\\/6\\\\/1\\\\/d5137ad3-aa44-437b-bfaa-8076c05a5b2d1622539364476-1.jpg\",\"ratingCount\":308.0,\"avg_rating\":4.4642857143,\"description\":\"<ul> <li> White regular top <\\\\/li> <li> Solid <\\\\/li> <li> Shoulder straps,  regular,  sleeves <\\\\/li> <li> Knitted <\\\\/li> <\\\\/ul>Cotton <br> Hand washThe model (height 5\\'8) is wearing a size S\",\"p_attributes\":\"{\\'Body Shape ID\\': \\'443,333,324,424\\', \\'Body or Garment Size\\': \\'Garment Measurements in\\', \\'Center Front Open\\': \\'No\\', \\'Character\\': \\'NA\\', \\'Closure\\': \\'NA\\', \\'Fabric\\': \\'Pure Cotton\\', \\'Fabric Type\\': \\'NA\\', \\'Length\\': \\'Regular\\', \\'Lining\\': \\'NA\\', \\'Main Trend\\': \\'New Basics\\', \\'Multipack Set\\': \\'NA\\', \\'Neck\\': \\'Shoulder Straps\\', \\'Occasion\\': \\'Casual\\', \\'Pattern\\': \\'Solid\\', \\'Print or Pattern Type\\': \\'Solid\\', \\'Sleeve Length\\': \\'Sleeveless\\', \\'Sleeve Styling\\': \\'Shoulder Straps\\', \\'Surface Styling\\': \\'NA\\', \\'Sustainable\\': \\'Regular\\', \\'Transparency\\': \\'Opaque\\', \\'Type\\': \\'Regular\\', \\'Wash Care\\': \\'Hand Wash\\', \\'Weave Type\\': \\'Knitted\\', \\'taxMaterial\\': \\'NA\\'}\",\"Gender\":null,\"Score\":2},{\"Unnamed: 0\":518,\"p_id\":14432274.0,\"name\":\"max Cream Regular Top\",\"price\":199.0,\"colour\":\"Cream\",\"brand\":\"max\",\"img\":\"http:\\\\/\\\\/assets.myntassets.com\\\\/assets\\\\/images\\\\/productimage\\\\/2021\\\\/6\\\\/1\\\\/7295eb99-5075-484b-ba94-455b97b839771622540494899-1.jpg\",\"ratingCount\":262.0,\"avg_rating\":4.5763358779,\"description\":\"<ul><li>Cream regular top<\\\\/li><li>Solid<\\\\/li><li>Shoulder straps, sleeveless<\\\\/li><li>Knitted<\\\\/li><\\\\/ul>95% Cotton and 5% Spandex<br>Hand washThe model (height 5\\'8) is wearing a size S\",\"p_attributes\":\"{\\'Body Shape ID\\': \\'443,333,324,424\\', \\'Body or Garment Size\\': \\'Garment Measurements in\\', \\'Center Front Open\\': \\'No\\', \\'Character\\': \\'NA\\', \\'Closure\\': \\'NA\\', \\'Fabric\\': \\'Pure Cotton\\', \\'Fabric Type\\': \\'NA\\', \\'Length\\': \\'Regular\\', \\'Lining\\': \\'NA\\', \\'Main Trend\\': \\'New Basics\\', \\'Multipack Set\\': \\'NA\\', \\'Neck\\': \\'Shoulder Straps\\', \\'Occasion\\': \\'Casual\\', \\'Pattern\\': \\'Solid\\', \\'Print or Pattern Type\\': \\'Solid\\', \\'Sleeve Length\\': \\'Sleeveless\\', \\'Sleeve Styling\\': \\'Shoulder Straps\\', \\'Surface Styling\\': \\'NA\\', \\'Sustainable\\': \\'Regular\\', \\'Transparency\\': \\'Opaque\\', \\'Type\\': \\'Regular\\', \\'Wash Care\\': \\'Hand Wash\\', \\'Weave Type\\': \\'Knitted\\', \\'taxMaterial\\': \\'NA\\'}\",\"Gender\":null,\"Score\":2}]'}]"
            ]
          },
          "execution_count": 43,
          "metadata": {},
          "output_type": "execute_result"
        }
      ],
      "source": [
        "debug_conversation_reco = initialize_conv_reco(top_3_products)\n",
        "debug_conversation_reco"
      ]
    },
    {
      "cell_type": "code",
      "execution_count": 44,
      "metadata": {
        "colab": {
          "base_uri": "https://localhost:8080/"
        },
        "id": "RYBeuh1KhAfv",
        "outputId": "04e2650a-8c94-4fbe-b9d6-6811fe8d2a27"
      },
      "outputs": [
        {
          "name": "stdout",
          "output_type": "stream",
          "text": [
            "Here are the user's products:\n",
            "\n",
            "1. max Cream Regular Top : Cream regular top, Solid, Shoulder straps, sleeveless, Knitted, 95% Cotton and 5% Spandex, Hand wash, Price: Rs. 199.0\n",
            "   [Image of the product](http://assets.myntassets.com/assets/images/productimage/2021/6/1/7295eb99-5075-484b-ba94-455b97b839771622540494899-1.jpg)\n",
            "   Description: Cream regular top with shoulder straps and sleeveless design. Made of knitted fabric with a blend of 95% Cotton and 5% Spandex. Hand wash recommended. The model is wearing a size S. \n",
            "\n",
            "2. max White Regular Top : White regular top, Solid, Shoulder straps, regular sleeves, Knitted, Cotton, Hand wash, Price: Rs. 199.0\n",
            "   [Image of the product](http://assets.myntassets.com/assets/images/productimage/2021/6/1/d5137ad3-aa44-437b-bfaa-8076c05a5b2d1622539364476-1.jpg)\n",
            "   Description: White regular top with shoulder straps and regular sleeves. Made of knitted pure Cotton fabric. Hand wash recommended. The model is wearing a size S.\n",
            "\n"
          ]
        }
      ],
      "source": [
        "debug_recommendation = get_chat_completions(debug_conversation_reco)\n",
        "print(debug_recommendation + '\\n')"
      ]
    },
    {
      "cell_type": "code",
      "execution_count": 45,
      "metadata": {
        "id": "z2vHITOmhPF_"
      },
      "outputs": [],
      "source": [
        "debug_conversation_reco.append({\"role\": \"user\", \"content\": \"This is my user profile\" + str(response_dict_n)})\n",
        "debug_conversation_reco.append({\"role\": \"assistant\", \"content\": debug_recommendation})"
      ]
    },
    {
      "cell_type": "code",
      "execution_count": 46,
      "metadata": {
        "colab": {
          "base_uri": "https://localhost:8080/",
          "height": 52
        },
        "id": "gtcEUqlwhV5R",
        "outputId": "00059823-c6ac-45b1-aea7-0cb2eabcf6f6"
      },
      "outputs": [
        {
          "data": {
            "text/plain": [
              "'\\nBoth products, the max Cream Regular Top and the max White Regular Top, are suitable for summer due to their sleeveless design and breathable fabric. The Cream Regular Top is made of 95% Cotton and 5% Spandex, while the White Regular Top is made of pure Cotton. Both tops are lightweight, comfortable, and perfect for staying cool during hot summer days.\\n'"
            ]
          },
          "metadata": {},
          "output_type": "display_data"
        }
      ],
      "source": [
        "#debug_user_input = \"Which is ideal for travel?\"\n",
        "debug_user_input = \"Which is ideal for summer?\"\n",
        "debug_conversation_reco.append({\"role\": \"user\", \"content\": debug_user_input})\n",
        "debug_response_asst_reco = get_chat_completions(debug_conversation_reco)\n",
        "display('\\n' + debug_response_asst_reco + '\\n')"
      ]
    },
    {
      "cell_type": "markdown",
      "metadata": {
        "id": "bENOdXh0hnDy"
      },
      "source": [
        "### 3. Dialogue Management System"
      ]
    },
    {
      "cell_type": "markdown",
      "metadata": {
        "id": "PMFdkrcI73Tc"
      },
      "source": [
        "Bringing everything together, we create a `diagloue_mgmt_system()` function that contains the logic of how the different layers would interact with each other. This will be the function that we'll call to initiate the chatbot"
      ]
    },
    {
      "cell_type": "code",
      "execution_count": 47,
      "metadata": {
        "id": "YRuZ8j6bhz6C"
      },
      "outputs": [],
      "source": [
        "def dialogue_mgmt_system():\n",
        "    conversation = initialize_conversation()\n",
        "\n",
        "    introduction = get_chat_completions(conversation)\n",
        "\n",
        "    display(introduction + '\\n')\n",
        "\n",
        "    top_3_products = None\n",
        "\n",
        "    user_input = ''\n",
        "\n",
        "    while(user_input != \"exit\"):\n",
        "\n",
        "        user_input = input(\"\")\n",
        "\n",
        "        moderation = moderation_check(user_input)\n",
        "        if moderation == 'Flagged':\n",
        "            display(\"Sorry, this message has been flagged. Please restart your conversation.\")\n",
        "            break\n",
        "\n",
        "        if top_3_products is None:\n",
        "\n",
        "\n",
        "            conversation.append({\"role\": \"user\", \"content\": user_input})\n",
        "\n",
        "            response_assistant = get_chat_completions(conversation)\n",
        "            moderation = moderation_check(response_assistant)\n",
        "            if moderation == 'Flagged':\n",
        "                display(\"Sorry, this message has been flagged. Please restart your conversation.\")\n",
        "                break\n",
        "\n",
        "\n",
        "            confirmation = intent_confirmation_layer(response_assistant)\n",
        "\n",
        "\n",
        "\n",
        "            if \"No\" in confirmation.get('result'):\n",
        "                print(confirmation.get('reason'))\n",
        "                conversation.append({\"role\": \"assistant\", \"content\": str(response_assistant)})\n",
        "\n",
        "                print(\"\\n\" + str(response_assistant) + \"\\n\")\n",
        "\n",
        "            else:\n",
        "                print(\"\\n\" + str(response_assistant) + \"\\n\")\n",
        "                print('\\n' + \"Variables extracted!\" + '\\n')\n",
        "\n",
        "                response = dictionary_present(response_assistant)\n",
        "\n",
        "                print(\"Thank you for providing all the information. Kindly wait, while I fetch the products: \\n\")\n",
        "                top_3_products = compare_products_with_user(response)\n",
        "\n",
        "                print(\"top products are\", top_3_products)\n",
        "\n",
        "                validated_reco = recommendation_validation(top_3_products)\n",
        "\n",
        "                conversation_reco = initialize_conv_reco(validated_reco)\n",
        "\n",
        "                conversation_reco.append({\"role\": \"user\", \"content\": \"This is my user profile\" + str(response)})\n",
        "\n",
        "                recommendation = get_chat_completions(conversation_reco)\n",
        "\n",
        "                moderation = moderation_check(recommendation)\n",
        "                if moderation == 'Flagged':\n",
        "                    display(\"Sorry, this message has been flagged. Please restart your conversation.\")\n",
        "                    break\n",
        "\n",
        "                conversation_reco.append({\"role\": \"assistant\", \"content\": str(recommendation)})\n",
        "\n",
        "                print(str(recommendation) + '\\n')\n",
        "                print('If you are done, Type \"exit\" to end conversation')\n",
        "        else:\n",
        "            conversation_reco.append({\"role\": \"user\", \"content\": user_input})\n",
        "\n",
        "            response_asst_reco = get_chat_completions(conversation_reco)\n",
        "\n",
        "            moderation = moderation_check(response_asst_reco)\n",
        "            if moderation == 'Flagged':\n",
        "                print(\"Sorry, this message has been flagged. Please restart your conversation.\")\n",
        "                break\n",
        "\n",
        "            print('\\n' + response_asst_reco + '\\n')\n",
        "            conversation.append({\"role\": \"assistant\", \"content\": response_asst_reco})"
      ]
    },
    {
      "cell_type": "code",
      "execution_count": 48,
      "metadata": {
        "colab": {
          "base_uri": "https://localhost:8080/",
          "height": 1000
        },
        "id": "I7kUwT0JiI83",
        "outputId": "16a89dce-5793-48d0-a648-31bfc18591d8"
      },
      "outputs": [
        {
          "data": {
            "text/plain": [
              "\"Hello! Welcome to the fashion search. I'm here to assist you in finding the perfect fashion product that matches your needs. Please go ahead and share your requirements with me.\\n\""
            ]
          },
          "metadata": {},
          "output_type": "display_data"
        },
        {
          "name": "stdout",
          "output_type": "stream",
          "text": [
            "Missing required information\n",
            "\n",
            "Great! Thank you for sharing that you are looking for blue men's office wear. Are you looking for any specific shade of blue or any other specific requirement for the office wear products?\n",
            "\n",
            "Missing required information\n",
            "\n",
            "Thank you for specifying the shade as light blue for men's office wear. Are you looking for products with high ratings or are you open to any ratings for the office wear?\n",
            "\n",
            "Missing key information for evaluation.\n",
            "\n",
            "Great choice! High-rated light blue men's office wear products it is. Could you please provide me with your budget or price range for these products?\n",
            "\n",
            "\n",
            "{'price': 10000, 'colour': 'light blue', 'avg_rating': 5}\n",
            "\n",
            "\n",
            "Variables extracted!\n",
            "\n",
            "Thank you for providing all the information. Kindly wait, while I fetch the products: \n",
            "\n",
            "top products are [{\"Unnamed: 0\":220,\"p_id\":14432282.0,\"name\":\"max White Regular Top\",\"price\":199.0,\"colour\":\"White\",\"brand\":\"max\",\"img\":\"http:\\/\\/assets.myntassets.com\\/assets\\/images\\/productimage\\/2021\\/6\\/1\\/d5137ad3-aa44-437b-bfaa-8076c05a5b2d1622539364476-1.jpg\",\"ratingCount\":308.0,\"avg_rating\":4.4642857143,\"description\":\"<ul> <li> White regular top <\\/li> <li> Solid <\\/li> <li> Shoulder straps,  regular,  sleeves <\\/li> <li> Knitted <\\/li> <\\/ul>Cotton <br> Hand washThe model (height 5'8) is wearing a size S\",\"p_attributes\":\"{'Body Shape ID': '443,333,324,424', 'Body or Garment Size': 'Garment Measurements in', 'Center Front Open': 'No', 'Character': 'NA', 'Closure': 'NA', 'Fabric': 'Pure Cotton', 'Fabric Type': 'NA', 'Length': 'Regular', 'Lining': 'NA', 'Main Trend': 'New Basics', 'Multipack Set': 'NA', 'Neck': 'Shoulder Straps', 'Occasion': 'Casual', 'Pattern': 'Solid', 'Print or Pattern Type': 'Solid', 'Sleeve Length': 'Sleeveless', 'Sleeve Styling': 'Shoulder Straps', 'Surface Styling': 'NA', 'Sustainable': 'Regular', 'Transparency': 'Opaque', 'Type': 'Regular', 'Wash Care': 'Hand Wash', 'Weave Type': 'Knitted', 'taxMaterial': 'NA'}\",\"Gender\":null,\"Score\":2},{\"Unnamed: 0\":518,\"p_id\":14432274.0,\"name\":\"max Cream Regular Top\",\"price\":199.0,\"colour\":\"Cream\",\"brand\":\"max\",\"img\":\"http:\\/\\/assets.myntassets.com\\/assets\\/images\\/productimage\\/2021\\/6\\/1\\/7295eb99-5075-484b-ba94-455b97b839771622540494899-1.jpg\",\"ratingCount\":262.0,\"avg_rating\":4.5763358779,\"description\":\"<ul><li>Cream regular top<\\/li><li>Solid<\\/li><li>Shoulder straps, sleeveless<\\/li><li>Knitted<\\/li><\\/ul>95% Cotton and 5% Spandex<br>Hand washThe model (height 5'8) is wearing a size S\",\"p_attributes\":\"{'Body Shape ID': '443,333,324,424', 'Body or Garment Size': 'Garment Measurements in', 'Center Front Open': 'No', 'Character': 'NA', 'Closure': 'NA', 'Fabric': 'Pure Cotton', 'Fabric Type': 'NA', 'Length': 'Regular', 'Lining': 'NA', 'Main Trend': 'New Basics', 'Multipack Set': 'NA', 'Neck': 'Shoulder Straps', 'Occasion': 'Casual', 'Pattern': 'Solid', 'Print or Pattern Type': 'Solid', 'Sleeve Length': 'Sleeveless', 'Sleeve Styling': 'Shoulder Straps', 'Surface Styling': 'NA', 'Sustainable': 'Regular', 'Transparency': 'Opaque', 'Type': 'Regular', 'Wash Care': 'Hand Wash', 'Weave Type': 'Knitted', 'taxMaterial': 'NA'}\",\"Gender\":null,\"Score\":2}]\n",
            "Based on the user's profile and the products provided, here are some recommendations:\n",
            "\n",
            "1. max Cream Regular Top: Cream regular top, Solid, Shoulder straps, sleeveless, 95% Cotton and 5% Spandex, Hand wash, Regular fit, Knitted, Price: Rs. 199\n",
            "   ![Image](http://assets.myntassets.com/assets/images/productimage/2021/6/1/7295eb99-5075-484b-ba94-455b97b839771622540494899-1.jpg)\n",
            "   \n",
            "2. max White Regular Top: White regular top, Solid, Shoulder straps, regular sleeves, Cotton, Hand wash, Regular fit, Knitted, Price: Rs. 199\n",
            "   ![Image](http://assets.myntassets.com/assets/images/productimage/2021/6/1/d5137ad3-aa44-437b-bfaa-8076c05a5b2d1622539364476-1.jpg)\n",
            "\n",
            "Given the user's preference for light blue color and high price range, the available products do not match the criteria. If you have more products or specific preferences, feel free to provide more information for better recommendations.\n",
            "\n",
            "If you are done, Type \"exit\" to end conversation\n",
            "\n",
            "If you have any more questions in the future or need further assistance, feel free to ask. Have a great day! Goodbye!\n",
            "\n"
          ]
        }
      ],
      "source": [
        "dialogue_mgmt_system()"
      ]
    },
    {
      "cell_type": "code",
      "execution_count": 49,
      "metadata": {
        "colab": {
          "base_uri": "https://localhost:8080/",
          "height": 680
        },
        "id": "ZBdz5R8s3UCl",
        "outputId": "0ee4a5e8-1d25-41cd-80b0-6426210ad811"
      },
      "outputs": [
        {
          "data": {
            "text/plain": [
              "'Hello! Welcome to the fashion search. Please let me know what you are looking for so that I can assist you in finding the perfect fashion product.\\n'"
            ]
          },
          "metadata": {},
          "output_type": "display_data"
        },
        {
          "name": "stdout",
          "output_type": "stream",
          "text": [
            "The input does not provide values for 'price' and 'avg_rating'.\n",
            "\n",
            "Great! I can help you find cream coloured formal pants for men. Are you looking for any specific price range or average rating for the product?\n",
            "\n",
            "avg_rating should be a numerical value\n",
            "\n",
            "{'price': 2000, 'colour': 'cream', 'avg_rating': 'high'}\n",
            "\n",
            "No keys and values provided in the input.\n",
            "\n",
            "Great! Could you please confirm the maximum budget you have for the cream coloured formal pants for men? \n",
            "\n",
            "The value for 'avg_rating' should be numerical instead of 'high'.\n",
            "\n",
            "Perfect! I have all the information I need. \n",
            "\n",
            "{'price': 2000, 'colour': 'cream', 'avg_rating': 'high'}\n",
            "\n",
            "Input does not contain the required information for evaluation.\n",
            "\n",
            "Great! I'm glad I could assist you. If you have any more requirements or need further assistance in the future, feel free to ask. Have a wonderful day!\n",
            "\n",
            "Missing key: 'price', Missing key: 'avg_rating', Incorrect 'colour' value\n",
            "\n",
            "I'm sorry, could you please provide me with a numerical average rating that you are looking for in the cream coloured formal pants for men?\n",
            "\n",
            "No specific keys provided for evaluation.\n",
            "\n",
            "I'm here to help with any fashion queries you may have in the future. Have a great day!\n",
            "\n"
          ]
        }
      ],
      "source": [
        "dialogue_mgmt_system()"
      ]
    },
    {
      "cell_type": "code",
      "execution_count": 50,
      "metadata": {
        "colab": {
          "base_uri": "https://localhost:8080/",
          "height": 923
        },
        "id": "XWztUiC83lk2",
        "outputId": "f82df487-c800-4a59-ac94-3735c0857d91"
      },
      "outputs": [
        {
          "data": {
            "text/plain": [
              "\"Hello! Welcome to the fashion search. I'm here to assist you in finding the perfect fashion product that matches your needs. Please share your requirements so we can get started.\\n\""
            ]
          },
          "metadata": {},
          "output_type": "display_data"
        },
        {
          "name": "stdout",
          "output_type": "stream",
          "text": [
            "The input does not provide the 'avg_rating' key and its value.\n",
            "\n",
            "Welcome! I can help you find the perfect green pants for men with a price of 20000 INR and high ratings. Are you looking for any specific shade of green?\n",
            "\n",
            "Key 'price' is missing.\n",
            "\n",
            "Great choice! Based on your preference for dark green pants, I will search for the perfect product. To ensure I have a complete understanding of your needs, could you please specify the minimum average rating you are looking for in the product?\n",
            "\n",
            "Missing required information for evaluation.\n",
            "\n",
            "Awesome! Thank you for providing that information. Could you kindly let me know your maximum budget for the product? This will help me find options that fit within your price range while meeting the specified requirements.\n",
            "\n",
            "\n",
            "{'price': 30000, 'colour': 'dark green', 'avg_rating': 4}\n",
            "\n",
            "\n",
            "Variables extracted!\n",
            "\n",
            "Thank you for providing all the information. Kindly wait, while I fetch the products: \n",
            "\n",
            "top products are [{\"Unnamed: 0\":220,\"p_id\":14432282.0,\"name\":\"max White Regular Top\",\"price\":199.0,\"colour\":\"White\",\"brand\":\"max\",\"img\":\"http:\\/\\/assets.myntassets.com\\/assets\\/images\\/productimage\\/2021\\/6\\/1\\/d5137ad3-aa44-437b-bfaa-8076c05a5b2d1622539364476-1.jpg\",\"ratingCount\":308.0,\"avg_rating\":4.4642857143,\"description\":\"<ul> <li> White regular top <\\/li> <li> Solid <\\/li> <li> Shoulder straps,  regular,  sleeves <\\/li> <li> Knitted <\\/li> <\\/ul>Cotton <br> Hand washThe model (height 5'8) is wearing a size S\",\"p_attributes\":\"{'Body Shape ID': '443,333,324,424', 'Body or Garment Size': 'Garment Measurements in', 'Center Front Open': 'No', 'Character': 'NA', 'Closure': 'NA', 'Fabric': 'Pure Cotton', 'Fabric Type': 'NA', 'Length': 'Regular', 'Lining': 'NA', 'Main Trend': 'New Basics', 'Multipack Set': 'NA', 'Neck': 'Shoulder Straps', 'Occasion': 'Casual', 'Pattern': 'Solid', 'Print or Pattern Type': 'Solid', 'Sleeve Length': 'Sleeveless', 'Sleeve Styling': 'Shoulder Straps', 'Surface Styling': 'NA', 'Sustainable': 'Regular', 'Transparency': 'Opaque', 'Type': 'Regular', 'Wash Care': 'Hand Wash', 'Weave Type': 'Knitted', 'taxMaterial': 'NA'}\",\"Gender\":null,\"Score\":2},{\"Unnamed: 0\":518,\"p_id\":14432274.0,\"name\":\"max Cream Regular Top\",\"price\":199.0,\"colour\":\"Cream\",\"brand\":\"max\",\"img\":\"http:\\/\\/assets.myntassets.com\\/assets\\/images\\/productimage\\/2021\\/6\\/1\\/7295eb99-5075-484b-ba94-455b97b839771622540494899-1.jpg\",\"ratingCount\":262.0,\"avg_rating\":4.5763358779,\"description\":\"<ul><li>Cream regular top<\\/li><li>Solid<\\/li><li>Shoulder straps, sleeveless<\\/li><li>Knitted<\\/li><\\/ul>95% Cotton and 5% Spandex<br>Hand washThe model (height 5'8) is wearing a size S\",\"p_attributes\":\"{'Body Shape ID': '443,333,324,424', 'Body or Garment Size': 'Garment Measurements in', 'Center Front Open': 'No', 'Character': 'NA', 'Closure': 'NA', 'Fabric': 'Pure Cotton', 'Fabric Type': 'NA', 'Length': 'Regular', 'Lining': 'NA', 'Main Trend': 'New Basics', 'Multipack Set': 'NA', 'Neck': 'Shoulder Straps', 'Occasion': 'Casual', 'Pattern': 'Solid', 'Print or Pattern Type': 'Solid', 'Sleeve Length': 'Sleeveless', 'Sleeve Styling': 'Shoulder Straps', 'Surface Styling': 'NA', 'Sustainable': 'Regular', 'Transparency': 'Opaque', 'Type': 'Regular', 'Wash Care': 'Hand Wash', 'Weave Type': 'Knitted', 'taxMaterial': 'NA'}\",\"Gender\":null,\"Score\":2}]\n",
            "Based on the user's profile and the products provided, here are some recommendations:\n",
            "\n",
            "1. Product Name: max White Regular Top\n",
            "Specifications: White regular top, Solid, Shoulder straps, regular sleeves, Knitted, Cotton material, Hand wash, Model's height 5'8 wearing size S\n",
            "Price: Rs. 199.0\n",
            "![Image](http://assets.myntassets.com/assets/images/productimage/2021/6/1/d5137ad3-aa44-437b-bfaa-8076c05a5b2d1622539364476-1.jpg)\n",
            "\n",
            "\n",
            "2. Product Name: max Cream Regular Top\n",
            "Specifications: Cream regular top, Solid, Shoulder straps, sleeveless, Knitted, 95% Cotton and 5% Spandex material, Hand wash, Model's height 5'8 wearing size S\n",
            "Price: Rs. 199.0\n",
            "![Image](http://assets.myntassets.com/assets/images/productimage/2021/6/1/7295eb99-5075-484b-ba94-455b97b839771622540494899-1.jpg)\n",
            "\n",
            "If you are done, Type \"exit\" to end conversation\n",
            "\n",
            "Feel free to return if you need more assistance in the future. Have a great day!\n",
            "\n"
          ]
        }
      ],
      "source": [
        "dialogue_mgmt_system()"
      ]
    },
    {
      "cell_type": "markdown",
      "metadata": {
        "id": "SyOf5b1r794H"
      },
      "source": [
        "# Part 3. Challenges Faced\n",
        "The fashion dataset has issues with data quality and consistency, including missing values, inaccurate entries, and mislabeled products. It also had inconsistent price and rating formats and inadequate descriptions. Preprocessing and data cleaning procedures were put into place to deal with missing numbers, fix discrepancies, and standardise formats. employed data validation methods to guarantee the dataset's accuracy and integrity.\n",
        "\n",
        "Because fashion choices are subjective and user requirements vary, it was challenging to effectively capture the user's fashion preferences.The intent layer was not functioning as expected, and the conversation outcomes were erratic. For better outcomes, the prompts were improved, implemented methods for user feedback to gradually enhance and strengthen the chatbot's intelligence of user preferences.\n",
        "\n",
        "When receiving inputs, the model became confused and kept asking the same questions without making any recommendations. simplified the questions by giving thorough guidance and including the thought process.\n",
        "\n",
        "Since creating indexes using Chromadb required a lot of effort and resources, it was decided to forego it.\n",
        "\n",
        "It was challenging to make sure the chatbot offered precise and pertinent suggestions depending on customer needs, particularly when dealing with a wide range of products. analysed user preferences and paired them with appropriate items using sophisticated machine learning algorithms.\n",
        "\n"
      ]
    },
    {
      "cell_type": "markdown",
      "metadata": {
        "id": "8cY3T8T28DSf"
      },
      "source": [
        "# Part 4. Scope & Recommendations\n",
        "- **Enhanced Data Preprocessing:** The model performs better with more data. In order to create a strong chatbot system that can more accurately capture intent, combine data from several sources.\n",
        "\n",
        "- **Natural Language Processing (NLP) Advanced** Use text embeddings (like FastText or BERT) to improve similarity matching. Use sentiment analysis to comprehend user reviews.\n",
        "\n",
        "- **Enhanced Algorithms for Recommendations** Apply collaborative filtering according to user actions. Utilise content-based filtering to find comparable items. For strong suggestions, combine content-based and collaborative filtering.\n",
        "\n",
        "- **Interaction with Users and Feedback Loop** Gather user input and utilise it to improve suggestions. Use a dialogue management system to make chatbots more interactive.\n",
        "\n",
        "- **Performance optimisation and scalability**To handle massive datasets effectively, use batch processing. Use parallel computing to process data more quickly. Put caching in place for data that is accessed frequently.\n",
        "\n",
        "\n",
        "- **User Experience and Interface** Make sure the chatbot has an easy-to-use UI. For increased engagement, incorporate visual components (such as product photos) into your recommendations."
      ]
    },
    {
      "cell_type": "markdown",
      "metadata": {},
      "source": []
    }
  ],
  "metadata": {
    "colab": {
      "provenance": [],
      "toc_visible": true
    },
    "kernelspec": {
      "display_name": "base",
      "language": "python",
      "name": "python3"
    },
    "language_info": {
      "codemirror_mode": {
        "name": "ipython",
        "version": 3
      },
      "file_extension": ".py",
      "mimetype": "text/x-python",
      "name": "python",
      "nbconvert_exporter": "python",
      "pygments_lexer": "ipython3",
      "version": "3.12.4"
    }
  },
  "nbformat": 4,
  "nbformat_minor": 0
}
